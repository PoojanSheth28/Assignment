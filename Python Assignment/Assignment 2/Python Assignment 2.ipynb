{
 "cells": [
  {
   "cell_type": "markdown",
   "id": "f45ed649",
   "metadata": {},
   "source": [
    "# NAME: POOJAN SHETH\n"
   ]
  },
  {
   "cell_type": "code",
   "execution_count": null,
   "id": "acfecd9a",
   "metadata": {},
   "outputs": [],
   "source": []
  },
  {
   "cell_type": "markdown",
   "id": "397abab1",
   "metadata": {},
   "source": [
    "# Python Assignment 2"
   ]
  },
  {
   "cell_type": "code",
   "execution_count": null,
   "id": "a4e80c29",
   "metadata": {},
   "outputs": [],
   "source": []
  },
  {
   "cell_type": "markdown",
   "id": "cb3867be",
   "metadata": {},
   "source": [
    "## List & Tuple\n",
    "### 1. Program to Find the Largest Number in a List: "
   ]
  },
  {
   "cell_type": "code",
   "execution_count": 5,
   "id": "90bc7f7f",
   "metadata": {},
   "outputs": [
    {
     "name": "stdout",
     "output_type": "stream",
     "text": [
      "63\n"
     ]
    }
   ],
   "source": [
    "lst=[2,10,23,48,50,63]\n",
    "print(max(lst))"
   ]
  },
  {
   "cell_type": "markdown",
   "id": "db9bdebe",
   "metadata": {},
   "source": [
    "### 2. Program to Put Even and Odd elements in a List into Two Different Lists:"
   ]
  },
  {
   "cell_type": "code",
   "execution_count": 13,
   "id": "3b7b065d",
   "metadata": {},
   "outputs": [
    {
     "name": "stdout",
     "output_type": "stream",
     "text": [
      "[2, 10, 48, 50]\n",
      "[23, 63]\n"
     ]
    }
   ],
   "source": [
    "lst=[2,10,23,48,50,63]\n",
    "even_lst=[]\n",
    "odd_lst=[]\n",
    "for i in lst:\n",
    "    if i%2==0:\n",
    "        even_lst.append(i)\n",
    "    elif i%2!=0:\n",
    "        odd_lst.append(i)\n",
    "print(even_lst)\n",
    "print(odd_lst)"
   ]
  },
  {
   "cell_type": "markdown",
   "id": "dc54e3bf",
   "metadata": {},
   "source": [
    "### 3. Program to Read a List of Words and Return the Length of the Longest One:\n"
   ]
  },
  {
   "cell_type": "code",
   "execution_count": 17,
   "id": "71053929",
   "metadata": {},
   "outputs": [
    {
     "name": "stdout",
     "output_type": "stream",
     "text": [
      "language\n"
     ]
    }
   ],
   "source": [
    "lst=['python','is','high','language']\n",
    "lng_wrd=lst[0]\n",
    "for i in lst:\n",
    "    if len(i)>len(lng_wrd):\n",
    "        lng_wrd=i\n",
    "print(lng_wrd)"
   ]
  },
  {
   "cell_type": "markdown",
   "id": "00975d70",
   "metadata": {},
   "source": [
    "### 4. Create a List of Tuples with the First Element as the Number and Second Element as the Square of the Number:"
   ]
  },
  {
   "cell_type": "code",
   "execution_count": 20,
   "id": "8e516e52",
   "metadata": {},
   "outputs": [
    {
     "name": "stdout",
     "output_type": "stream",
     "text": [
      "Enter a number for range: 50\n",
      "[(1, 1), (2, 4), (3, 9), (4, 16), (5, 25), (6, 36), (7, 49), (8, 64), (9, 81), (10, 100), (11, 121), (12, 144), (13, 169), (14, 196), (15, 225), (16, 256), (17, 289), (18, 324), (19, 361), (20, 400), (21, 441), (22, 484), (23, 529), (24, 576), (25, 625), (26, 676), (27, 729), (28, 784), (29, 841), (30, 900), (31, 961), (32, 1024), (33, 1089), (34, 1156), (35, 1225), (36, 1296), (37, 1369), (38, 1444), (39, 1521), (40, 1600), (41, 1681), (42, 1764), (43, 1849), (44, 1936), (45, 2025), (46, 2116), (47, 2209), (48, 2304), (49, 2401), (50, 2500)]\n"
     ]
    }
   ],
   "source": [
    "N=int(input('Enter a number for range: '))\n",
    "lst_tpls=[]\n",
    "for i in range (1,N+1):\n",
    "    lst_tpls.append((i,i**2))\n",
    "print(lst_tpls)"
   ]
  },
  {
   "cell_type": "markdown",
   "id": "0ceef0cd",
   "metadata": {},
   "source": [
    "### 5. Program to Remove the Duplicate Items from a List:"
   ]
  },
  {
   "cell_type": "code",
   "execution_count": 26,
   "id": "f4dbc203",
   "metadata": {},
   "outputs": [
    {
     "name": "stdout",
     "output_type": "stream",
     "text": [
      "['python', 'is', 'high', 'level', 'language', 'easy', 'to', 'learn']\n"
     ]
    }
   ],
   "source": [
    "lst=['python','is','high','level','language','python','is','easy','to','learn']\n",
    "lst1=[]\n",
    "for i in lst:\n",
    "    if len(lst1)<1:\n",
    "        lst1.append(i)\n",
    "    elif i not in lst1:\n",
    "        lst1.append(i)\n",
    "print(lst1)\n",
    "        "
   ]
  },
  {
   "cell_type": "markdown",
   "id": "8a783272",
   "metadata": {},
   "source": [
    "### 6. WAP to check if this tuple (20, 20, 30, 30, 30, 40, 40, 40, 10) is in ascending/ descending or in random order without inbuilt function.  "
   ]
  },
  {
   "cell_type": "code",
   "execution_count": 71,
   "id": "ee87a484",
   "metadata": {},
   "outputs": [
    {
     "name": "stdout",
     "output_type": "stream",
     "text": [
      "Tuple is in random order\n"
     ]
    }
   ],
   "source": [
    "tpl=(20, 20, 30, 30, 30, 40, 40, 40, 10)\n",
    "asc,des=False, False\n",
    "for i in range(0,len(tpl)-1):\n",
    "    if tpl[i]<=tpl[i+1]:\n",
    "        asc=True\n",
    "    else:\n",
    "        asc=False\n",
    "        break\n",
    "for i in range(0,len(tpl)-1):\n",
    "    if tpl[i]>=tpl[i+1]:\n",
    "        des=True\n",
    "    else:\n",
    "        des=False\n",
    "        break\n",
    "if asc:\n",
    "    print('Tuple is in ascending order')\n",
    "elif des:\n",
    "    print('Tuple is in desecnding order')\n",
    "else:\n",
    "    print('Tuple is in random order')\n",
    "        "
   ]
  },
  {
   "cell_type": "markdown",
   "id": "6c390aa6",
   "metadata": {},
   "source": [
    "## Dictionary \n",
    "### 1. Program to Check if a Given Key Exists in a Dictionary or Not:"
   ]
  },
  {
   "cell_type": "code",
   "execution_count": 24,
   "id": "37fba1fe",
   "metadata": {},
   "outputs": [
    {
     "name": "stdout",
     "output_type": "stream",
     "text": [
      "Enter key: nam\n",
      "Key does not exist in dictionary\n"
     ]
    }
   ],
   "source": [
    "dictionary={'roll no.':[1,2,3,4],\n",
    "           'name':['A','B','C','D'],\n",
    "           'subjects':['W','X','Y','Z'],\n",
    "           'address':{'city':['B','C','M','D'],\n",
    "                     'state':['K','TN','TN','D'],\n",
    "                     'pincode':[44,33,22,11]}}\n",
    "key=input('Enter key: ')\n",
    "flag=False\n",
    "for i in dictionary.keys():\n",
    "    if i==key:\n",
    "        print('Key exist in dictionary')\n",
    "        flag=True\n",
    "        break\n",
    "if flag==False:\n",
    "    print('Key does not exist in dictionary')"
   ]
  },
  {
   "cell_type": "markdown",
   "id": "9a63bd33",
   "metadata": {},
   "source": [
    "### 2. Program to Sum All the Items in a Dictionary: "
   ]
  },
  {
   "cell_type": "code",
   "execution_count": 25,
   "id": "d8ff65c0",
   "metadata": {},
   "outputs": [
    {
     "name": "stdout",
     "output_type": "stream",
     "text": [
      "77\n"
     ]
    }
   ],
   "source": [
    "d={'n1':2,'n2':50,'n3':20,'n4':5}\n",
    "sum=sum(d.values())\n",
    "print(sum)"
   ]
  },
  {
   "cell_type": "markdown",
   "id": "912209c5",
   "metadata": {},
   "source": [
    "### 3. Program to Remove the Given Key from a Dictionary: "
   ]
  },
  {
   "cell_type": "code",
   "execution_count": 27,
   "id": "9377d2a2",
   "metadata": {},
   "outputs": [
    {
     "name": "stdout",
     "output_type": "stream",
     "text": [
      "Before:  {'roll no.': [1, 2, 3, 4], 'name': ['A', 'B', 'C', 'D'], 'subjects': ['W', 'X', 'Y', 'Z'], 'address': {'city': ['B', 'C', 'M', 'D'], 'state': ['K', 'TN', 'TN', 'D'], 'pincode': [44, 33, 22, 11]}}\n",
      "After:  {'roll no.': [1, 2, 3, 4], 'name': ['A', 'B', 'C', 'D'], 'subjects': ['W', 'X', 'Y', 'Z']}\n"
     ]
    }
   ],
   "source": [
    "dictionary={'roll no.':[1,2,3,4],\n",
    "           'name':['A','B','C','D'],\n",
    "           'subjects':['W','X','Y','Z'],\n",
    "           'address':{'city':['B','C','M','D'],\n",
    "                     'state':['K','TN','TN','D'],\n",
    "                     'pincode':[44,33,22,11]}}\n",
    "print('Before: ',dictionary)\n",
    "dictionary.pop('address')\n",
    "print('After: ',dictionary)"
   ]
  },
  {
   "cell_type": "markdown",
   "id": "50f6cdeb",
   "metadata": {},
   "source": [
    "### 4. Write a Python program to iterate over dictionaries using for loops:"
   ]
  },
  {
   "cell_type": "code",
   "execution_count": 31,
   "id": "c9d79557",
   "metadata": {},
   "outputs": [
    {
     "name": "stdout",
     "output_type": "stream",
     "text": [
      "Dictionary: \n",
      "roll no. [1, 2, 3, 4]\n",
      "name ['A', 'B', 'C', 'D']\n",
      "subjects ['W', 'X', 'Y', 'Z']\n",
      "address {'city': ['B', 'C', 'M', 'D'], 'state': ['K', 'TN', 'TN', 'D'], 'pincode': [44, 33, 22, 11]}\n",
      "\n",
      "Keys: \n",
      "roll no.\n",
      "name\n",
      "subjects\n",
      "address\n",
      "\n",
      "Values\n",
      "[1, 2, 3, 4]\n",
      "['A', 'B', 'C', 'D']\n",
      "['W', 'X', 'Y', 'Z']\n",
      "{'city': ['B', 'C', 'M', 'D'], 'state': ['K', 'TN', 'TN', 'D'], 'pincode': [44, 33, 22, 11]}\n"
     ]
    }
   ],
   "source": [
    "d={'roll no.':[1,2,3,4],\n",
    "   'name':['A','B','C','D'],\n",
    "   'subjects':['W','X','Y','Z'],\n",
    "   'address':{'city':['B','C','M','D'],\n",
    "              'state':['K','TN','TN','D'],\n",
    "              'pincode':[44,33,22,11]}}\n",
    "\n",
    "print('Dictionary:')\n",
    "for i,j in d.items():\n",
    "    print(i,j)\n",
    "print(\"\\nKeys:\")\n",
    "for k in d.keys():\n",
    "    print(k)\n",
    "print(\"\\nValues:\")\n",
    "for v in d.values():\n",
    "    print(v)"
   ]
  },
  {
   "cell_type": "markdown",
   "id": "487551d0",
   "metadata": {},
   "source": [
    "### 5. Write a Python program to sort a dictionary by key: "
   ]
  },
  {
   "cell_type": "code",
   "execution_count": 37,
   "id": "55c83442",
   "metadata": {},
   "outputs": [
    {
     "name": "stdout",
     "output_type": "stream",
     "text": [
      "Sorted Dictionary Key:  ['address', 'name', 'roll no.', 'subjects']\n",
      "Sorted Address Key:  ['city', 'pincode', 'state']\n"
     ]
    }
   ],
   "source": [
    "d={'roll no.':[1,2,3,4],\n",
    "   'name':['A','B','C','D'],\n",
    "   'subjects':['W','X','Y','Z'],\n",
    "   'address':{'city':['B','C','M','D'],\n",
    "              'state':['K','TN','TN','D'],\n",
    "              'pincode':[44,33,22,11]}}\n",
    "print('Sorted Dictionary Key: ',sorted(d))\n",
    "print('Sorted Address Key: ',sorted(d['address']))"
   ]
  },
  {
   "cell_type": "markdown",
   "id": "85bca9cd",
   "metadata": {},
   "source": [
    "## Set \n",
    "### 1. Python Program to Count the Number of Vowels Present in a String using Sets:"
   ]
  },
  {
   "cell_type": "code",
   "execution_count": 45,
   "id": "1c7d6cdf",
   "metadata": {},
   "outputs": [
    {
     "name": "stdout",
     "output_type": "stream",
     "text": [
      "Enter a string: Python vs Java\n",
      "3\n"
     ]
    }
   ],
   "source": [
    "str=input('Enter a string: ')\n",
    "vowels=set(\"aeiou\")\n",
    "count=0\n",
    "for i in str:\n",
    "    if i in vowels:\n",
    "        count+=1\n",
    "print(count)"
   ]
  },
  {
   "cell_type": "markdown",
   "id": "4e902d34",
   "metadata": {},
   "source": [
    "### 2. Python Program to Check Common Letters in Two Input Strings: "
   ]
  },
  {
   "cell_type": "code",
   "execution_count": 49,
   "id": "30ee05f7",
   "metadata": {},
   "outputs": [
    {
     "name": "stdout",
     "output_type": "stream",
     "text": [
      "Common Letters in str1 & str2 are:  {'h', 't', 'u', 'n', 'g', 'y', 's', ' ', 'P', 'e', 'a', 'i', 'l', 'o'}\n"
     ]
    }
   ],
   "source": [
    "str1=set('Python is high level language')\n",
    "str2=set('Python is general purpose language')\n",
    "intersection=str1.intersection(str2)\n",
    "print('Common Letters in str1 & str2 are: ',intersection)"
   ]
  },
  {
   "cell_type": "markdown",
   "id": "dd8a1f2b",
   "metadata": {},
   "source": [
    "### 3. Python Program that displays which Letters are in the First String but not in the Second: "
   ]
  },
  {
   "cell_type": "code",
   "execution_count": 51,
   "id": "9c4b5ff3",
   "metadata": {},
   "outputs": [
    {
     "name": "stdout",
     "output_type": "stream",
     "text": [
      "Lettres present in str1 but not in str2 is  {'v'}\n"
     ]
    }
   ],
   "source": [
    "str1=set('Python is high level language')\n",
    "str2=set('Python is general purpose language')\n",
    "s=str1-str2\n",
    "print('Lettres present in str1 but not in str2 is ',s)"
   ]
  },
  {
   "cell_type": "markdown",
   "id": "3aa8f989",
   "metadata": {},
   "source": [
    "### 4. Python Program that displays which Letters are Present in Both the Strings: "
   ]
  },
  {
   "cell_type": "code",
   "execution_count": 55,
   "id": "ec9fdecb",
   "metadata": {},
   "outputs": [
    {
     "name": "stdout",
     "output_type": "stream",
     "text": [
      "Letters are Present in Both the Strings are  {'h', 't', 'u', 'n', 'g', 'y', 's', ' ', 'P', 'e', 'a', 'i', 'l', 'o'}\n"
     ]
    }
   ],
   "source": [
    "str1=set('Python is high level language')\n",
    "str2=set('Python is general purpose language')\n",
    "s=str1.intersection(str2)\n",
    "print('Letters are Present in Both the Strings are ',s)"
   ]
  },
  {
   "cell_type": "markdown",
   "id": "54ebd541",
   "metadata": {},
   "source": [
    "### 5. Python Program that displays which Letters are in the Two Strings but not in both: "
   ]
  },
  {
   "cell_type": "code",
   "execution_count": 59,
   "id": "6e632f7b",
   "metadata": {},
   "outputs": [
    {
     "name": "stdout",
     "output_type": "stream",
     "text": [
      "Letters are in the Two Strings but not in both are  {'v', 'p', 'r'}\n"
     ]
    }
   ],
   "source": [
    "str1=set('Python is high level language')\n",
    "str2=set('Python is general purpose language')\n",
    "s=str1.symmetric_difference(str2)\n",
    "print('Letters are in the Two Strings but not in both are ',s)\n"
   ]
  },
  {
   "cell_type": "markdown",
   "id": "a8ba3afe",
   "metadata": {},
   "source": [
    "## List comprehension & list generator \n",
    "### 1. WAP to add elements of the two lists:"
   ]
  },
  {
   "cell_type": "code",
   "execution_count": 61,
   "id": "22b653fa",
   "metadata": {},
   "outputs": [
    {
     "name": "stdout",
     "output_type": "stream",
     "text": [
      "[16, 29, 37, 55, 17]\n"
     ]
    }
   ],
   "source": [
    "lst1 = [6,9,7,5,10]\n",
    "lst2 = [10,20,30,50,7]\n",
    "sum_lst=[]\n",
    "[sum_lst.append(i+j) for i,j in zip(lst1,lst2)]\n",
    "print(sum_lst)"
   ]
  },
  {
   "cell_type": "markdown",
   "id": "d1cd57c2",
   "metadata": {},
   "source": [
    "### 4. WAP to add square root of the list elements: [5,7,9,10,11]"
   ]
  },
  {
   "cell_type": "code",
   "execution_count": 65,
   "id": "fad82298",
   "metadata": {},
   "outputs": [
    {
     "name": "stdout",
     "output_type": "stream",
     "text": [
      "14.36072173908816\n"
     ]
    }
   ],
   "source": [
    "lst= [5,7,9,10,11]\n",
    "print(sum(i**0.5 for i in lst))"
   ]
  },
  {
   "cell_type": "markdown",
   "id": "52fac801",
   "metadata": {},
   "source": [
    "### 5. WAP to create 2’s multiplication table."
   ]
  },
  {
   "cell_type": "code",
   "execution_count": 86,
   "id": "9931e19a",
   "metadata": {},
   "outputs": [
    {
     "name": "stdout",
     "output_type": "stream",
     "text": [
      "['2*1=2', '2*2=4', '2*3=6', '2*4=8', '2*5=10', '2*6=12', '2*7=14', '2*8=16', '2*9=18', '2*10=20', '2*11=22', '2*12=24', '2*13=26', '2*14=28', '2*15=30', '2*16=32', '2*17=34', '2*18=36', '2*19=38', '2*20=40']\n"
     ]
    }
   ],
   "source": [
    "table=['''{}*{}={}'''.format(i,j,i*j) for i in (2,) for j in range(1,21)]\n",
    "print(table)"
   ]
  },
  {
   "cell_type": "code",
   "execution_count": 89,
   "id": "603f8f28",
   "metadata": {},
   "outputs": [
    {
     "name": "stdout",
     "output_type": "stream",
     "text": [
      "Enter string: Python is high level language\n",
      "['p', 'y', 't', 'h', 'o', 'n', ' ', 'i', 's', ' ', 'h', 'i', 'g', 'h', ' ', 'l', 'e', 'v', 'e', 'l', ' ', 'l', 'a', 'n', 'g', 'u', 'a', 'g', 'e']\n"
     ]
    }
   ],
   "source": [
    "str1=input('Enter string: ')\n",
    "lower=[i.lower() for i in str1]\n",
    "print(lower)"
   ]
  },
  {
   "cell_type": "code",
   "execution_count": null,
   "id": "9cf26217",
   "metadata": {},
   "outputs": [],
   "source": []
  },
  {
   "cell_type": "code",
   "execution_count": null,
   "id": "b2ed8bf3",
   "metadata": {},
   "outputs": [],
   "source": []
  },
  {
   "cell_type": "code",
   "execution_count": null,
   "id": "4cfab359",
   "metadata": {},
   "outputs": [],
   "source": []
  },
  {
   "cell_type": "code",
   "execution_count": null,
   "id": "6b0d1e94",
   "metadata": {},
   "outputs": [],
   "source": []
  },
  {
   "cell_type": "code",
   "execution_count": null,
   "id": "bd1e1ba2",
   "metadata": {},
   "outputs": [],
   "source": []
  },
  {
   "cell_type": "code",
   "execution_count": null,
   "id": "bd3adda1",
   "metadata": {},
   "outputs": [],
   "source": []
  }
 ],
 "metadata": {
  "kernelspec": {
   "display_name": "Python 3",
   "language": "python",
   "name": "python3"
  },
  "language_info": {
   "codemirror_mode": {
    "name": "ipython",
    "version": 3
   },
   "file_extension": ".py",
   "mimetype": "text/x-python",
   "name": "python",
   "nbconvert_exporter": "python",
   "pygments_lexer": "ipython3",
   "version": "3.8.8"
  }
 },
 "nbformat": 4,
 "nbformat_minor": 5
}
