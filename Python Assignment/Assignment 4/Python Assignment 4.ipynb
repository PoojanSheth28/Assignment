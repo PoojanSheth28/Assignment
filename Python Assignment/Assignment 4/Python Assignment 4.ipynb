{
 "cells": [
  {
   "cell_type": "markdown",
   "id": "e9d95a92",
   "metadata": {},
   "source": [
    "# NAME: POOJAN SHETH\n"
   ]
  },
  {
   "cell_type": "code",
   "execution_count": null,
   "id": "25a7ff2a",
   "metadata": {},
   "outputs": [],
   "source": []
  },
  {
   "cell_type": "markdown",
   "id": "6d03b0d5",
   "metadata": {},
   "source": [
    "# Python Assignment 4"
   ]
  },
  {
   "cell_type": "code",
   "execution_count": null,
   "id": "27ff5738",
   "metadata": {},
   "outputs": [],
   "source": []
  },
  {
   "cell_type": "markdown",
   "id": "e8a870f8",
   "metadata": {},
   "source": [
    "## File Input Output Handling "
   ]
  },
  {
   "cell_type": "code",
   "execution_count": null,
   "id": "50339a29",
   "metadata": {},
   "outputs": [],
   "source": []
  },
  {
   "cell_type": "markdown",
   "id": "bb8a8734",
   "metadata": {},
   "source": [
    "### 1. Python Program to Read the Contents of a File\n"
   ]
  },
  {
   "cell_type": "code",
   "execution_count": 38,
   "id": "b680e2d0",
   "metadata": {},
   "outputs": [
    {
     "name": "stdout",
     "output_type": "stream",
     "text": [
      "This is line one\n"
     ]
    }
   ],
   "source": [
    "with open('test.txt',mode='a') as file:\n",
    "    file.write('This is line one')\n",
    "with open('test.txt',mode='r') as file:\n",
    "    print(file.read())"
   ]
  },
  {
   "cell_type": "markdown",
   "id": "c7ef5345",
   "metadata": {},
   "source": [
    "### 2. Python Program to Count the Number of Words in a Text File"
   ]
  },
  {
   "cell_type": "code",
   "execution_count": 30,
   "id": "75b72cc5",
   "metadata": {},
   "outputs": [
    {
     "name": "stdout",
     "output_type": "stream",
     "text": [
      "4\n"
     ]
    }
   ],
   "source": [
    "len_words=0\n",
    "with open('test.txt',mode='r') as file:\n",
    "    for i in file:\n",
    "        num_words=i.split()\n",
    "        len_words+=len(num_words)\n",
    "print(len_words)"
   ]
  },
  {
   "cell_type": "markdown",
   "id": "0bc4514d",
   "metadata": {},
   "source": [
    "### 3. Python Program to Copy the Contents of One File into Another"
   ]
  },
  {
   "cell_type": "code",
   "execution_count": 54,
   "id": "f550fe98",
   "metadata": {},
   "outputs": [
    {
     "name": "stdout",
     "output_type": "stream",
     "text": [
      "This is line oneThis is line one\n"
     ]
    }
   ],
   "source": [
    "with open('test.txt','w') as file:\n",
    "    file.write('This is line one')\n",
    "with open('test.txt',mode='r') as file, open('copy.txt',mode='a') as file1:\n",
    "    for i in file:\n",
    "        file1.write(i)\n",
    "with open('copy.txt','r') as file1:\n",
    "    print(file1.read())"
   ]
  },
  {
   "cell_type": "markdown",
   "id": "d0266c5c",
   "metadata": {},
   "source": [
    "### 4. Python Program to Read a File and Capitalize the First Letter of Every Word in the File "
   ]
  },
  {
   "cell_type": "code",
   "execution_count": 69,
   "id": "67d5bdac",
   "metadata": {},
   "outputs": [
    {
     "name": "stdout",
     "output_type": "stream",
     "text": [
      "This Is Line One\n"
     ]
    }
   ],
   "source": [
    "with open('test.txt','w') as file:\n",
    "    file.write('This is line one')\n",
    "with open('test.txt','r') as file:\n",
    "    for i in file:\n",
    "        l=i.title()\n",
    "    print(l)\n",
    "        "
   ]
  },
  {
   "cell_type": "markdown",
   "id": "c519cb35",
   "metadata": {},
   "source": [
    "## Exception Handling "
   ]
  },
  {
   "cell_type": "markdown",
   "id": "4864e3db",
   "metadata": {},
   "source": [
    "### 1. WAP to read input from user. Allow the user to enter more numbers as long as the user enters valid integers. Terminate the program with proper message when they entered value is anything except integer. "
   ]
  },
  {
   "cell_type": "code",
   "execution_count": 8,
   "id": "3e123b48",
   "metadata": {},
   "outputs": [
    {
     "name": "stdout",
     "output_type": "stream",
     "text": [
      "Enter a valid integer: 50\n",
      "Enter a valid integer: 60\n",
      "Enter a valid integer: 20\n",
      "Enter a valid integer: m\n",
      "Not a valid integer\n"
     ]
    }
   ],
   "source": [
    "try:\n",
    "    while True:\n",
    "        a=int(input('Enter a valid integer: '))\n",
    "except ValueError:\n",
    "    print('Not a valid integer')"
   ]
  },
  {
   "cell_type": "markdown",
   "id": "caba1c04",
   "metadata": {},
   "source": [
    "### 2.  WAP to read input from a user. Allow the user to enter more numbers as long as the user enters valid numbers. Terminate the program with proper message when the user enters a value anything except valid number."
   ]
  },
  {
   "cell_type": "code",
   "execution_count": 9,
   "id": "1b4093a0",
   "metadata": {},
   "outputs": [
    {
     "name": "stdout",
     "output_type": "stream",
     "text": [
      "Enter a valid number: 50.0\n",
      "Enter a valid number: 50.3\n",
      "Enter a valid number: 60.5\n",
      "Enter a valid number: b\n",
      "Not a valid number\n"
     ]
    }
   ],
   "source": [
    "try:\n",
    "    while True:\n",
    "        a=float(input('Enter a valid number: '))\n",
    "except ValueError:\n",
    "    print('Not a valid number')"
   ]
  },
  {
   "cell_type": "markdown",
   "id": "d6aec684",
   "metadata": {},
   "source": [
    "### 3.  WAP to read input from a user. Allow the user to enter more numbers as long as the user enters valid numbers. Terminate the program with proper message when the user enters a value anything except valid number. Allow wrong entry 'N' times. "
   ]
  },
  {
   "cell_type": "code",
   "execution_count": 12,
   "id": "b70b197f",
   "metadata": {},
   "outputs": [
    {
     "name": "stdout",
     "output_type": "stream",
     "text": [
      "How many times wrong entry is allowed? 2\n",
      "Enter an integer: 5\n",
      "Enter an integer: 6\n",
      "Enter an integer: 32\n",
      "Enter an integer: a\n"
     ]
    }
   ],
   "source": [
    "wrong = []\n",
    "n=int(input('How many times wrong entry is allowed? '))\n",
    "try:\n",
    "    while len(wrong) < n:\n",
    "        user_input = int(input(\"Enter an integer: \"))\n",
    "    \n",
    "except:\n",
    "    if type(user_input)==str:\n",
    "        wrong.append(user_input)"
   ]
  },
  {
   "cell_type": "markdown",
   "id": "b1d7d518",
   "metadata": {},
   "source": [
    "## Regular Expression \n",
    "### 1. Validate email id using Regular Expression"
   ]
  },
  {
   "cell_type": "code",
   "execution_count": 7,
   "id": "27ad5ed4",
   "metadata": {},
   "outputs": [
    {
     "name": "stdout",
     "output_type": "stream",
     "text": [
      "abc@gmail.org =>  Matched\n",
      "abc@gmail.org =>  Not Matched\n",
      "abc@gmail.org =>  Matched\n",
      "abc@gmail.org =>  Matched\n",
      "abc@gmail.org =>  Not Matched\n",
      "abc@gmail.org =>  Matched\n",
      "abc@gmail.org =>  Matched\n",
      "abc@gmail.org =>  Not Matched\n",
      "abc@gmail.org =>  Not Matched\n"
     ]
    }
   ],
   "source": [
    "import re\n",
    "emails = ['abc@gmail.com','abc@yahoo.com','abc1@gmail.com','Abc@gmail.com','abc@gmail.net','abc_xyz@gmail.com','abc.xyz@gmail.com','abc@gmail.comm', 'abc@gmail.org']\n",
    "pattern = '^[a-zA-Z1-9]+[.-_]?[a-z1-9]*@gmail.com$'\n",
    "for i in emails:\n",
    "    if re.search(pattern = pattern , string = i) :\n",
    "        print(email, '=>',' Matched')\n",
    "    else:\n",
    "        print(email,'=>', ' Not Matched')"
   ]
  },
  {
   "cell_type": "markdown",
   "id": "7c02ea0e",
   "metadata": {},
   "source": [
    "### 2. Validate a mobile Phone Number with country code using Regular Expression"
   ]
  },
  {
   "cell_type": "code",
   "execution_count": 5,
   "id": "42793b80",
   "metadata": {},
   "outputs": [
    {
     "name": "stdout",
     "output_type": "stream",
     "text": [
      "99161798121 => Invalid Number\n",
      "+91-9916179812 => Valid Number\n",
      "+91 9916179812 => Valid Number\n",
      "9916179812 => Invalid Number\n",
      "561289674 => Invalid Number\n",
      "991617981a => Invalid Number\n",
      "+919916179812 => Valid Number\n",
      "+91--9916179812 => Invalid Number\n"
     ]
    }
   ],
   "source": [
    "numbers = ['99161798121','+91-9916179812','+91 9916179812','9916179812','561289674','991617981a','+919916179812', '+91--9916179812']\n",
    "pattern = '^\\+91[-\\s]?\\d{10}$'\n",
    "\n",
    "for i in numbers:\n",
    "    if re.search(pattern = pattern , string = i):\n",
    "        print(i,'=> Valid Number')\n",
    "    else:\n",
    "        print(i, '=> Invalid Number')"
   ]
  },
  {
   "cell_type": "markdown",
   "id": "da4731aa",
   "metadata": {},
   "source": [
    "### 3. Validate a credit card number using Regular Expression"
   ]
  },
  {
   "cell_type": "code",
   "execution_count": 15,
   "id": "54f08278",
   "metadata": {},
   "outputs": [
    {
     "name": "stdout",
     "output_type": "stream",
     "text": [
      "6521 1010 2580 2365 => Valid Number\n",
      "2020-1256-2580-2828 => Valid Number\n",
      "2525252525695858 => Valid Number\n",
      "256987413586 => Invalid Number\n"
     ]
    }
   ],
   "source": [
    "card_num=['6521 1010 2580 2365','2020-1256-2580-2828','2525252525695858','256987413586']\n",
    "pattern='^\\d{4}[-\\s]?\\d{4}[-\\s]?\\d{4}[-\\s]?\\d{4}$'\n",
    "for i in card_num:\n",
    "    if re.search(pattern = pattern , string = i):\n",
    "        print(i,'=> Valid Number')\n",
    "    else:\n",
    "        print(i, '=> Invalid Number')"
   ]
  },
  {
   "cell_type": "markdown",
   "id": "4bec5074",
   "metadata": {},
   "source": [
    "### 4. Find all numbersin a string using regular expression: string - adbv345hj43hvb42"
   ]
  },
  {
   "cell_type": "code",
   "execution_count": 24,
   "id": "e8b2b58e",
   "metadata": {},
   "outputs": [
    {
     "data": {
      "text/plain": [
       "['3', '4', '5', '4', '3', '4', '2']"
      ]
     },
     "execution_count": 24,
     "metadata": {},
     "output_type": "execute_result"
    }
   ],
   "source": [
    "string='adbv345hj43hvb42'\n",
    "re.findall('[0-9]',string)"
   ]
  },
  {
   "cell_type": "code",
   "execution_count": null,
   "id": "990a58ad",
   "metadata": {},
   "outputs": [],
   "source": []
  },
  {
   "cell_type": "code",
   "execution_count": null,
   "id": "bcaef510",
   "metadata": {},
   "outputs": [],
   "source": []
  },
  {
   "cell_type": "code",
   "execution_count": null,
   "id": "daa56ae9",
   "metadata": {},
   "outputs": [],
   "source": []
  },
  {
   "cell_type": "code",
   "execution_count": null,
   "id": "40ac5244",
   "metadata": {},
   "outputs": [],
   "source": []
  },
  {
   "cell_type": "code",
   "execution_count": null,
   "id": "52094ee5",
   "metadata": {},
   "outputs": [],
   "source": []
  },
  {
   "cell_type": "code",
   "execution_count": null,
   "id": "279b1fdb",
   "metadata": {},
   "outputs": [],
   "source": []
  },
  {
   "cell_type": "code",
   "execution_count": null,
   "id": "cf055b5f",
   "metadata": {},
   "outputs": [],
   "source": []
  },
  {
   "cell_type": "code",
   "execution_count": null,
   "id": "c2ccba52",
   "metadata": {},
   "outputs": [],
   "source": []
  },
  {
   "cell_type": "code",
   "execution_count": null,
   "id": "f923c46e",
   "metadata": {},
   "outputs": [],
   "source": []
  }
 ],
 "metadata": {
  "kernelspec": {
   "display_name": "Python 3",
   "language": "python",
   "name": "python3"
  },
  "language_info": {
   "codemirror_mode": {
    "name": "ipython",
    "version": 3
   },
   "file_extension": ".py",
   "mimetype": "text/x-python",
   "name": "python",
   "nbconvert_exporter": "python",
   "pygments_lexer": "ipython3",
   "version": "3.8.8"
  }
 },
 "nbformat": 4,
 "nbformat_minor": 5
}
