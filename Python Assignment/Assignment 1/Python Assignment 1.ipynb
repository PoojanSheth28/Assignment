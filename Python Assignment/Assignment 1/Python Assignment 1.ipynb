{
 "cells": [
  {
   "cell_type": "markdown",
   "id": "89817bee",
   "metadata": {},
   "source": [
    "# NAME: POOJAN SHETH"
   ]
  },
  {
   "cell_type": "code",
   "execution_count": null,
   "id": "47e567cd",
   "metadata": {},
   "outputs": [],
   "source": []
  },
  {
   "cell_type": "markdown",
   "id": "fb11e72f",
   "metadata": {},
   "source": [
    "## Python Basic Program\n",
    "### 1. Print Hello world! : "
   ]
  },
  {
   "cell_type": "code",
   "execution_count": null,
   "id": "47efba41",
   "metadata": {},
   "outputs": [],
   "source": [
    "print('Hello world!')"
   ]
  },
  {
   "cell_type": "markdown",
   "id": "dc6b943a",
   "metadata": {},
   "source": [
    "### 2. Declare the following variables: Int, Float, Boolean, String & print its value."
   ]
  },
  {
   "cell_type": "code",
   "execution_count": null,
   "id": "a894af40",
   "metadata": {},
   "outputs": [],
   "source": [
    "a=int(3)\n",
    "b=float(3)\n",
    "c=bool(3>2)\n",
    "d=str(3)\n",
    "print(a, type(a))\n",
    "print(b, type(b))\n",
    "print(c, type(c))\n",
    "print(d, type(d))"
   ]
  },
  {
   "cell_type": "markdown",
   "id": "821a53ac",
   "metadata": {},
   "source": [
    "### 3. Program to calculate the Area Of Triangle: "
   ]
  },
  {
   "cell_type": "code",
   "execution_count": 2,
   "id": "09ec9456",
   "metadata": {},
   "outputs": [
    {
     "name": "stdout",
     "output_type": "stream",
     "text": [
      "Enter length of base of triangle:20\n",
      "Enter height of triangle:10\n",
      "Area of triangle is  100.0\n"
     ]
    }
   ],
   "source": [
    "a=float(input('Enter length of base of triangle:'))\n",
    "b=float(input('Enter height of triangle:'))\n",
    "area=0.5*a*b\n",
    "print('Area of triangle is ',area)"
   ]
  },
  {
   "cell_type": "markdown",
   "id": "19346f25",
   "metadata": {},
   "source": [
    "### 4. Program to calculate area of a square."
   ]
  },
  {
   "cell_type": "code",
   "execution_count": 4,
   "id": "2a0dcc49",
   "metadata": {},
   "outputs": [
    {
     "name": "stdout",
     "output_type": "stream",
     "text": [
      "Enter length of side of square:20\n",
      "Area of square is: 400.0\n"
     ]
    }
   ],
   "source": [
    "a=float(input('Enter length of side of square:'))\n",
    "area=a*a\n",
    "print('Area of square is:',area)"
   ]
  },
  {
   "cell_type": "markdown",
   "id": "a6981cfc",
   "metadata": {},
   "source": [
    "### 5. Program to swap two variables: "
   ]
  },
  {
   "cell_type": "code",
   "execution_count": 7,
   "id": "5888978c",
   "metadata": {},
   "outputs": [
    {
     "name": "stdout",
     "output_type": "stream",
     "text": [
      "Enter first variable:Data\n",
      "Enter second variable:Science\n",
      "Value of a before swaping is: Data\n",
      "Value of b before swaping is: Science\n",
      "Value of a after swaping is: Science\n",
      "Value of b after swaping is: Data\n"
     ]
    }
   ],
   "source": [
    "a=input('Enter first variable:')\n",
    "b=input('Enter second variable:')\n",
    "print('Value of a before swaping is:',a)\n",
    "print('Value of b before swaping is:',b)\n",
    "a,b=b,a\n",
    "print('Value of a after swaping is:',a)\n",
    "print('Value of b after swaping is:',b)"
   ]
  },
  {
   "cell_type": "markdown",
   "id": "ee5fb2bd",
   "metadata": {},
   "source": [
    "### 6. Program is to check if a number is positive, negative or zero."
   ]
  },
  {
   "cell_type": "code",
   "execution_count": 8,
   "id": "7dc9a3b4",
   "metadata": {},
   "outputs": [
    {
     "name": "stdout",
     "output_type": "stream",
     "text": [
      "Enter a number:-2\n",
      "Number is negative\n"
     ]
    }
   ],
   "source": [
    "a=float(input('Enter a number:'))\n",
    "if a>0:\n",
    "    print('Number is positive')\n",
    "elif a<0:\n",
    "    print('Number is negative')\n",
    "else:\n",
    "    print('Number is 0')"
   ]
  },
  {
   "cell_type": "markdown",
   "id": "3f0e916a",
   "metadata": {},
   "source": [
    "### 7. Program is to check if a number is Even or Odd."
   ]
  },
  {
   "cell_type": "code",
   "execution_count": 10,
   "id": "1499eb2a",
   "metadata": {},
   "outputs": [
    {
     "name": "stdout",
     "output_type": "stream",
     "text": [
      "Enter a number:21\n",
      "Entered number is odd number\n"
     ]
    }
   ],
   "source": [
    "a=int(input('Enter a number:'))\n",
    "if a%2==0:\n",
    "    print('Entered number is even number')\n",
    "else:\n",
    "    print('Entered number is odd number')"
   ]
  },
  {
   "cell_type": "markdown",
   "id": "9195f249",
   "metadata": {},
   "source": [
    "### 8. Program to print Odd number within a given range."
   ]
  },
  {
   "cell_type": "code",
   "execution_count": 14,
   "id": "cb9e22d8",
   "metadata": {},
   "outputs": [
    {
     "name": "stdout",
     "output_type": "stream",
     "text": [
      "1\n",
      "3\n",
      "5\n",
      "7\n",
      "9\n",
      "11\n",
      "13\n",
      "15\n",
      "17\n",
      "19\n"
     ]
    }
   ],
   "source": [
    "for i in range(1,20):\n",
    "    if i%2!=0:\n",
    "        print(i)"
   ]
  },
  {
   "cell_type": "markdown",
   "id": "cfa0c0a5",
   "metadata": {},
   "source": [
    "### 9. Python program to find the factorial of a number."
   ]
  },
  {
   "cell_type": "code",
   "execution_count": 2,
   "id": "2ee302e2",
   "metadata": {},
   "outputs": [
    {
     "name": "stdout",
     "output_type": "stream",
     "text": [
      "Enter number:5\n",
      "Factorial of  5 is 120\n"
     ]
    }
   ],
   "source": [
    "a=int(input('Enter number:'))\n",
    "b=1\n",
    "for i in range(1,a+1):\n",
    "    b=b*i\n",
    "print('Factorial of ',a,'is',b)\n",
    "\n"
   ]
  },
  {
   "cell_type": "markdown",
   "id": "3c8ae70e",
   "metadata": {},
   "source": [
    "### 10. Program to reverse a given number."
   ]
  },
  {
   "cell_type": "code",
   "execution_count": 21,
   "id": "a8620359",
   "metadata": {},
   "outputs": [
    {
     "name": "stdout",
     "output_type": "stream",
     "text": [
      "Enter a number:12345\n",
      "54321\n"
     ]
    }
   ],
   "source": [
    "a=int(input('Enter a number:'))\n",
    "rev=0\n",
    "while(a>0):\n",
    "    b=a%10\n",
    "    rev=rev*10+b\n",
    "    a=a//10\n",
    "print(rev)\n"
   ]
  },
  {
   "cell_type": "markdown",
   "id": "93144b7a",
   "metadata": {},
   "source": [
    "### 11. Program to find out the sum of N Natural numbers."
   ]
  },
  {
   "cell_type": "code",
   "execution_count": 26,
   "id": "27d9c281",
   "metadata": {},
   "outputs": [
    {
     "name": "stdout",
     "output_type": "stream",
     "text": [
      "Enter number to find the sum:10\n",
      "Sum of first  10  natural numbers is  55\n"
     ]
    }
   ],
   "source": [
    "a=int(input('Enter number to find the sum:'))\n",
    "sum=0\n",
    "if a<0:\n",
    "    print ('Enter positive number')\n",
    "elif a==0:\n",
    "    print('Sum of 0 is 0')\n",
    "else:\n",
    "    for i in range(0,a+1):\n",
    "        sum=sum+i\n",
    "    print('Sum of first ',a,' natural numbers is ',sum)"
   ]
  },
  {
   "cell_type": "markdown",
   "id": "92f1ccec",
   "metadata": {},
   "source": [
    "## Strings\n",
    "### 1. Program to reverse a string."
   ]
  },
  {
   "cell_type": "code",
   "execution_count": 17,
   "id": "57a51ac2",
   "metadata": {},
   "outputs": [
    {
     "name": "stdout",
     "output_type": "stream",
     "text": [
      "egaugnal level hgih si nohtyP\n"
     ]
    }
   ],
   "source": [
    "a='Python is high level language'\n",
    "b=a[::-1]\n",
    "print(b)"
   ]
  },
  {
   "cell_type": "markdown",
   "id": "9ded1073",
   "metadata": {},
   "source": [
    "### 2. Program to check if string is palindrome or not: "
   ]
  },
  {
   "cell_type": "code",
   "execution_count": 23,
   "id": "69f27c47",
   "metadata": {},
   "outputs": [
    {
     "name": "stdout",
     "output_type": "stream",
     "text": [
      "Enter a string:12321\n",
      "String is palindrome\n"
     ]
    }
   ],
   "source": [
    "a=input('Enter a string:')\n",
    "b=a[::-1]\n",
    "if a==b:\n",
    "    print('String is palindrome')\n",
    "else:\n",
    "    print('String is not a palindrome')"
   ]
  },
  {
   "cell_type": "markdown",
   "id": "869fe57d",
   "metadata": {},
   "source": [
    "### 3. Python Program to Replace all Occurrences of ‘a’ with $ in a String from user:"
   ]
  },
  {
   "cell_type": "code",
   "execution_count": null,
   "id": "d3a47869",
   "metadata": {},
   "outputs": [],
   "source": [
    "a=input('Enter a string:')\n",
    "b=a.replace('a','$')\n",
    "print(b)"
   ]
  },
  {
   "cell_type": "markdown",
   "id": "cf51cc9b",
   "metadata": {},
   "source": [
    "### 4. Python Program to Count the Number of Vowels in a String Input Two Strings and Display the Larger String without Using Built-in Functions: "
   ]
  },
  {
   "cell_type": "code",
   "execution_count": 5,
   "id": "9499c847",
   "metadata": {},
   "outputs": [
    {
     "name": "stdout",
     "output_type": "stream",
     "text": [
      "Enter 1st string Python is high level language\n",
      "Enter 2nd string Python is OOP language\n",
      "Vowels in 1st string is  9\n",
      "Vowels in 2nd string is  8\n",
      "Python is high level language\n"
     ]
    }
   ],
   "source": [
    "a=input('Enter 1st string: ')\n",
    "b=input('Enter 2nd string: ')\n",
    "vowels_a=0\n",
    "for i in a:\n",
    "    if (i=='a' or i=='A' or i=='e' or i=='E' or i=='i' or i=='I' or i=='o' or i=='O' or i=='u' or i=='U'):\n",
    "        vowels_a=vowels_a+1\n",
    "print('Vowels in 1st string is ',vowels_a)\n",
    "\n",
    "vowels_b=0\n",
    "for i in b:\n",
    "    if (i=='a' or i=='A' or i=='e' or i=='E' or i=='i' or i=='I' or i=='o' or i=='O' or i=='u' or i=='U'):\n",
    "        vowels_b=vowels_b+1\n",
    "print('Vowels in 2nd string is ',vowels_b)\n",
    "\n",
    "if len(a)>len(b):\n",
    "    print(a)\n",
    "else:\n",
    "    print(b)\n",
    "    "
   ]
  },
  {
   "cell_type": "markdown",
   "id": "65c38131",
   "metadata": {},
   "source": [
    "### 5. Count the number of digits & letter in a string: "
   ]
  },
  {
   "cell_type": "code",
   "execution_count": 11,
   "id": "d946e086",
   "metadata": {},
   "outputs": [
    {
     "name": "stdout",
     "output_type": "stream",
     "text": [
      "Enter a string Python 3\n",
      "Number of digits in string is  1\n",
      "Number of letter in string is  6\n"
     ]
    }
   ],
   "source": [
    "a=input('Enter a string: ')\n",
    "digit=0\n",
    "letter=0\n",
    "for i in a:\n",
    "    if i.isdigit():\n",
    "        digit=digit+1\n",
    "    elif i.isalpha():\n",
    "        letter=letter+1\n",
    "        \n",
    "print('Number of digits in string is ',digit)\n",
    "print('Number of letter in string is ',letter)"
   ]
  },
  {
   "cell_type": "markdown",
   "id": "ca43a1b0",
   "metadata": {},
   "source": [
    "### 6. Count Number of Lowercase Characters in a String:"
   ]
  },
  {
   "cell_type": "code",
   "execution_count": 13,
   "id": "0f871e41",
   "metadata": {},
   "outputs": [
    {
     "name": "stdout",
     "output_type": "stream",
     "text": [
      "Enter a string Python 3\n",
      "Number of lowercase characters in string are  5\n"
     ]
    }
   ],
   "source": [
    "a=input('Enter a string: ')\n",
    "lower=0\n",
    "\n",
    "for i in a:\n",
    "    if i.islower():\n",
    "        lower=lower+1\n",
    "        \n",
    "print('Number of lowercase characters in string are ',lower)"
   ]
  },
  {
   "cell_type": "markdown",
   "id": "3a1acb03",
   "metadata": {},
   "source": [
    "### 7. Program to check if a Substring is Present in a Given String: "
   ]
  },
  {
   "cell_type": "code",
   "execution_count": 17,
   "id": "6bd52d50",
   "metadata": {},
   "outputs": [
    {
     "name": "stdout",
     "output_type": "stream",
     "text": [
      "Enter a string Python 3\n",
      "Enter a substring apple\n",
      "Substring is not present in given string\n"
     ]
    }
   ],
   "source": [
    "given_str=input('Enter a string: ')\n",
    "sub_str=input('Enter a substring: ')\n",
    "if given_str.find(sub_str)==-1:\n",
    "    print ('Substring is not present in given string')\n",
    "else:\n",
    "    print ('Substring is present in given string')"
   ]
  },
  {
   "cell_type": "markdown",
   "id": "005cfbe3",
   "metadata": {},
   "source": [
    "## Conditional statements\n",
    "### 1. W. A P. which takes one number from 0 to 9 from the user and prints itin the word. And if the word is not from 0 to 9 then it should print that number is outside of the range and program should exit."
   ]
  },
  {
   "cell_type": "code",
   "execution_count": 4,
   "id": "d31f97b1",
   "metadata": {},
   "outputs": [
    {
     "name": "stdout",
     "output_type": "stream",
     "text": [
      "Enter a number from 0 to 9: 10\n",
      "number is outside of the range\n"
     ]
    }
   ],
   "source": [
    "a=int(input('Enter a number from 0 to 9: '))\n",
    "if a==0:\n",
    "    print('Zero')\n",
    "elif a==1:\n",
    "    print('One')\n",
    "elif a==2:\n",
    "    print('Two')\n",
    "elif a==3:\n",
    "    print('Three')\n",
    "elif a==4:\n",
    "    print('Four')\n",
    "elif a==5:\n",
    "    print('Five')\n",
    "elif a==6:\n",
    "    print('Six')\n",
    "elif a==7:\n",
    "    print('Seven')\n",
    "elif a==8:\n",
    "    print('Eight')\n",
    "elif a==9:\n",
    "    print('Nine')\n",
    "else:\n",
    "    print('number is outside of the range')"
   ]
  },
  {
   "cell_type": "markdown",
   "id": "f7af7fb3",
   "metadata": {},
   "source": [
    "### 2. W. A P. to implement calculator but the operation to be done and two numbers will be taken as input from user:- "
   ]
  },
  {
   "cell_type": "code",
   "execution_count": 11,
   "id": "0219d0e0",
   "metadata": {},
   "outputs": [
    {
     "name": "stdout",
     "output_type": "stream",
     "text": [
      "Enter 1st number: 12\n",
      "Enter 2nd number: 3\n",
      "Please select any one operation from below:-\n",
      "1. To add enter 1\n",
      "2. to subtract enter 2\n",
      "3. To multiply enter 3\n",
      "4. To divide enter 4\n",
      "5. To divide and find quotient enter 5\n",
      "6. To divide and find remainder enter 6\n",
      "7. To find num1 to the power of num2 enter 7.\n",
      "8. To Come out of the program enter 8 \n",
      "8\n",
      "Out of program\n"
     ]
    }
   ],
   "source": [
    "n1=int(input('Enter 1st number: '))\n",
    "n2=int(input('Enter 2nd number: '))\n",
    "a=int(input('''Please select any one operation from below:-\n",
    "1. To add enter 1\n",
    "2. to subtract enter 2\n",
    "3. To multiply enter 3\n",
    "4. To divide enter 4\n",
    "5. To divide and find quotient enter 5\n",
    "6. To divide and find remainder enter 6\n",
    "7. To find num1 to the power of num2 enter 7.\n",
    "8. To Come out of the program enter 8 \n",
    "'''))\n",
    "if a==1:\n",
    "    print(n1+n2)\n",
    "elif a==2:\n",
    "    print(n1-n2)\n",
    "elif a==3:\n",
    "    print(n1*n2)\n",
    "elif a==4:\n",
    "    if n2==0:\n",
    "        print('Division is not possible')\n",
    "    else:\n",
    "        print(n1/n2)\n",
    "elif a==5:\n",
    "    if n2==0:\n",
    "        print('Division is not possible')\n",
    "    else:\n",
    "        print(n1//n2)\n",
    "elif a==6:\n",
    "    if n2==0:\n",
    "        print('Division is not possible')\n",
    "    else:\n",
    "        print(n1%n2)\n",
    "elif a==7:\n",
    "    print(n1**n2)\n",
    "else:\n",
    "    print('Out of program')"
   ]
  },
  {
   "cell_type": "markdown",
   "id": "28ca4a43",
   "metadata": {},
   "source": [
    "### 3. W A P to check whether a year entered by user is an leap year or not?"
   ]
  },
  {
   "cell_type": "code",
   "execution_count": 52,
   "id": "f13e9ed3",
   "metadata": {},
   "outputs": [
    {
     "name": "stdout",
     "output_type": "stream",
     "text": [
      "Enter year:1900\n",
      "1900  is not a leap year\n"
     ]
    }
   ],
   "source": [
    "a=int(input('Enter year:'))\n",
    "if a%4==0:\n",
    "    if a%100==0:\n",
    "        if a%400==0:\n",
    "            print(a,' is a leap year')\n",
    "        else:\n",
    "            print(a,' is not a leap year')\n",
    "    else:\n",
    "        print(a,' is a leap year')\n",
    "else:\n",
    "    print(a,' is not a leap year')\n",
    "        \n",
    "    "
   ]
  },
  {
   "cell_type": "markdown",
   "id": "ec805f1d",
   "metadata": {},
   "source": [
    "### 5(a). W A P which takes two numbers from the user and prints below(using if-else)\n",
    "- num1 is greater than num2 if num1 is greater than num2\n",
    "- num1 is smaller than num2 if num1 is smaller than num2\n",
    "- num1 is equal to num2 if num1 and num2 are equal "
   ]
  },
  {
   "cell_type": "code",
   "execution_count": 68,
   "id": "1c0f3f6a",
   "metadata": {},
   "outputs": [
    {
     "name": "stdout",
     "output_type": "stream",
     "text": [
      "Enter num1: 10\n",
      "Enter num2: 10\n",
      "10  is equal to  10\n"
     ]
    }
   ],
   "source": [
    "a=int(input('Enter num1: '))\n",
    "b=int(input('Enter num2: '))\n",
    "if a>b or a<b:\n",
    "    if a>b:\n",
    "        print(a,' is greater than ',b)\n",
    "    else:\n",
    "        print(a,' is smaller than ',b)\n",
    "else:\n",
    "    print(a,' is equal to ',b)\n",
    "    "
   ]
  },
  {
   "cell_type": "markdown",
   "id": "4a504d3b",
   "metadata": {},
   "source": [
    "### 5(a). W A P which takes two numbers from the user and prints below(using ternary operator)"
   ]
  },
  {
   "cell_type": "code",
   "execution_count": 72,
   "id": "666c82c8",
   "metadata": {},
   "outputs": [
    {
     "name": "stdout",
     "output_type": "stream",
     "text": [
      "Enter num1: 28\n",
      "Enter num2: 25\n",
      "28  is greater than  25\n"
     ]
    }
   ],
   "source": [
    "a=int(input('Enter num1: '))\n",
    "b=int(input('Enter num2: '))\n",
    "print(a,' is greater than ',b) if a>b else print(a,' is smaller than ',b) if a<b else print(a,' is equal to ',b)"
   ]
  },
  {
   "cell_type": "markdown",
   "id": "f4b0a751",
   "metadata": {},
   "source": [
    "### 6(a). W A P which takes three numbers from the user and prints below(using if-else)\n",
    "- num1 is greater than num2 and num3 if num1 is greater than num2 and num3\n",
    "- num2 is greater than num1 and num3 if num2 is greater than num1 and num3\n",
    "- num3 is greater than num1 and num2 if num3 is greater than num1 and num2\n"
   ]
  },
  {
   "cell_type": "code",
   "execution_count": 3,
   "id": "0b571e80",
   "metadata": {},
   "outputs": [
    {
     "name": "stdout",
     "output_type": "stream",
     "text": [
      "Enter num1: 10\n",
      "Enter num2: 12\n",
      "Enter num3: 14\n",
      "14  is greater than  10 &  12\n"
     ]
    }
   ],
   "source": [
    "a=int(input('Enter num1: '))\n",
    "b=int(input('Enter num2: '))\n",
    "c=int(input('Enter num3: '))\n",
    "if (a>b) & (a>c):\n",
    "    print(a,' is greater than ',b,'& ',c)\n",
    "elif (b>a) and (b>c):\n",
    "    print(b,' is greater than ',a,'& ',c)\n",
    "elif (c>a) and (c>b):\n",
    "    print(c,' is greater than ',a,'& ',b)"
   ]
  },
  {
   "cell_type": "markdown",
   "id": "7a680e41",
   "metadata": {},
   "source": [
    "### 6(b). W A P which takes three numbers from the user and prints below(using ternary operator)\n",
    "- num1 is greater than num2 and num3 if num1 is greater than num2 and num3\n",
    "- num2 is greater than num1 and num3 if num2 is greater than num1 and num3\n",
    "- num3 is greater than num1 and num2 if num3 is greater than num1 and num2\n"
   ]
  },
  {
   "cell_type": "code",
   "execution_count": 12,
   "id": "e5768c5c",
   "metadata": {},
   "outputs": [
    {
     "name": "stdout",
     "output_type": "stream",
     "text": [
      "Enter num1: 10\n",
      "Enter num2: 20\n",
      "Enter num3: 30\n",
      "30  is greater than  10 &  20\n"
     ]
    }
   ],
   "source": [
    "a=int(input('Enter num1: '))\n",
    "b=int(input('Enter num2: '))\n",
    "c=int(input('Enter num3: '))\n",
    "print(a,' is greater than ',b,'& ',c) if ((a>b) & (a>c)) else print(b,' is greater than ',a,'& ',c) if ((b>a) & (b>c)) else print(c,' is greater than ',a,'& ',b) if ((c>a) & (c>b)) else 0"
   ]
  },
  {
   "cell_type": "markdown",
   "id": "d3c75129",
   "metadata": {},
   "source": [
    "## Loops - for loop, while loop\n",
    "### 7. Write a Python program to find the length of the my_str using loop"
   ]
  },
  {
   "cell_type": "code",
   "execution_count": 20,
   "id": "429d6538",
   "metadata": {},
   "outputs": [
    {
     "name": "stdout",
     "output_type": "stream",
     "text": [
      "55\n"
     ]
    }
   ],
   "source": [
    "str_='Write a Python program to find the length of the my_str'\n",
    "\n",
    "index=0\n",
    "while index < len(str_):\n",
    "    index +=1\n",
    "print(index)\n",
    "    \n",
    "    "
   ]
  },
  {
   "cell_type": "markdown",
   "id": "ade21a04",
   "metadata": {},
   "source": [
    "### 8. Write a Python program to find the total number of times letter 'p' is appeared in the below string using loop:-"
   ]
  },
  {
   "cell_type": "code",
   "execution_count": 7,
   "id": "25f94f86",
   "metadata": {},
   "outputs": [
    {
     "name": "stdout",
     "output_type": "stream",
     "text": [
      "9\n"
     ]
    }
   ],
   "source": [
    "str_='peter piper picked a peck of pickled peppers.'\n",
    "count=0\n",
    "for i in range(0,len(str_)):\n",
    "    if str_[i]=='p':\n",
    "        count = count+1\n",
    "print(count)"
   ]
  },
  {
   "cell_type": "markdown",
   "id": "11662ec0",
   "metadata": {},
   "source": [
    "### 9. Write a Python Program, to print all the indexes of all occurrences of letter 'p' appeared in the string using loop:-"
   ]
  },
  {
   "cell_type": "code",
   "execution_count": 14,
   "id": "e314d7e1",
   "metadata": {},
   "outputs": [
    {
     "name": "stdout",
     "output_type": "stream",
     "text": [
      "0\n",
      "6\n",
      "8\n",
      "12\n",
      "21\n",
      "29\n",
      "37\n",
      "39\n",
      "40\n"
     ]
    }
   ],
   "source": [
    "str_= 'peter piper picked a peck of pickled peppers.'\n",
    "for i in range(0,len(str_)):\n",
    "    if str_[i]=='p':\n",
    "        print(i)"
   ]
  },
  {
   "cell_type": "markdown",
   "id": "3028f0d5",
   "metadata": {},
   "source": [
    "### 10. Write a python program to find below output using loop:-\n",
    "- Input: - 'peter piper picked a peck of pickled peppers.'\n",
    "- Output:- ['peter', 'piper', 'picked', 'a', 'peck', 'of', 'pickled', 'peppers'] "
   ]
  },
  {
   "cell_type": "code",
   "execution_count": 9,
   "id": "9320c24b",
   "metadata": {},
   "outputs": [
    {
     "name": "stdout",
     "output_type": "stream",
     "text": [
      "['peter', 'piper', 'picked', 'a', 'peck', 'of', 'pickled', 'peppers.']\n"
     ]
    }
   ],
   "source": [
    "str_='peter piper picked a peck of pickled peppers.'\n",
    "lst=[]\n",
    "start_indx=0\n",
    "for i in range(0,len(str_)):\n",
    "    if str_[i]==' ':\n",
    "        current_indx=i\n",
    "        lst.append(str_[start_indx:current_indx])\n",
    "        start_indx = i+1\n",
    "    elif i==len(str_)-1:\n",
    "        lst.append(str_[start_indx:])\n",
    "print(lst)"
   ]
  },
  {
   "cell_type": "markdown",
   "id": "496b7e94",
   "metadata": {},
   "source": [
    "### 11.  Write a python program to find below output using loop:-\n",
    "- Input: - 'peter piper picked a peck of pickled peppers.'\n",
    "- Output:- 'peppers pickled of peck a picked piper peter'"
   ]
  },
  {
   "cell_type": "code",
   "execution_count": 18,
   "id": "e7d6c426",
   "metadata": {},
   "outputs": [
    {
     "name": "stdout",
     "output_type": "stream",
     "text": [
      "peppers pickled of peck a picked piper peter\n"
     ]
    }
   ],
   "source": [
    "str_='peter piper picked a peck of pickled peppers.'\n",
    "str_=str_[:len(str_)-1]\n",
    "last_indx=len(str_)\n",
    "newstr=[]\n",
    "for i in range(len(str_)-1,-1,-1):\n",
    "    if str_[i]==' ':\n",
    "        newstr.append(str_[i+1:last_indx])\n",
    "        last_indx=i\n",
    "    elif i==0:\n",
    "        newstr.append(str_[i:last_indx])\n",
    "print(' '.join(newstr))"
   ]
  },
  {
   "cell_type": "markdown",
   "id": "dc70ab65",
   "metadata": {},
   "source": [
    "### 12. Write a python program to find below output using loop:-\n",
    "- Input: - 'peter piper picked a peck of pickled peppers.'\n",
    "- Output:- '.sreppep delkcip fo kcep a dekcip repip retep' "
   ]
  },
  {
   "cell_type": "code",
   "execution_count": 20,
   "id": "af7c5346",
   "metadata": {},
   "outputs": [
    {
     "name": "stdout",
     "output_type": "stream",
     "text": [
      ".sreppep delkcip fo kcep a dekcip repip retep\n"
     ]
    }
   ],
   "source": [
    "str_='peter piper picked a peck of pickled peppers.'\n",
    "rev_str=''\n",
    "for i in range(len(str_)-1,-1,-1):\n",
    "    rev_str=rev_str+str_[i]\n",
    "print(rev_str)"
   ]
  },
  {
   "cell_type": "markdown",
   "id": "64ce72a8",
   "metadata": {},
   "source": [
    "### 13. Write a python program to find below output using loop:-\n",
    "- Input: - 'peter piper picked a peck of pickled peppers.'\n",
    "- Output:- 'retep repip dekcip a kcep fo delkcip sreppep'"
   ]
  },
  {
   "cell_type": "code",
   "execution_count": 30,
   "id": "a70c535a",
   "metadata": {},
   "outputs": [
    {
     "name": "stdout",
     "output_type": "stream",
     "text": [
      "retep repip dekcip a kcep fo delkcip sreppep\n"
     ]
    }
   ],
   "source": [
    "str_='peter piper picked a peck of pickled peppers'\n",
    "rev_str=''\n",
    "indx=0\n",
    "for i in range(0,len(str_)):\n",
    "    if str_[i]==' ':\n",
    "        current=i\n",
    "        rev_str=rev_str+str_[indx:current][::-1]+' '\n",
    "        indx=i+1\n",
    "    elif i==len(str_)-1:\n",
    "        rev_str=rev_str+str_[indx:i+1][::-1]\n",
    "print(rev_str)"
   ]
  },
  {
   "cell_type": "markdown",
   "id": "d73f6621",
   "metadata": {},
   "source": [
    "### 14. Write a python program to find below output using loop:-\n",
    "- Input: - 'peter piper picked a peck of pickled peppers.' \n",
    "- Output:- 'Peter Piper Picked A Peck Of Pickled Peppers'"
   ]
  },
  {
   "cell_type": "code",
   "execution_count": 32,
   "id": "eed0443d",
   "metadata": {},
   "outputs": [
    {
     "name": "stdout",
     "output_type": "stream",
     "text": [
      "Peter Piper Picked A Peck Of Pickled Ppeppers.\n"
     ]
    }
   ],
   "source": [
    "str_='peter piper picked a peck of pickled peppers.'\n",
    "cap_str=''\n",
    "indx=0\n",
    "for i in range(0,len(str_)):\n",
    "    if str_[i]==' ':\n",
    "        current=i\n",
    "        cap_str=cap_str+str_[indx].upper()+str_[indx+1:current]+' '\n",
    "        indx=i+1\n",
    "    elif i==len(str_)-1:\n",
    "        cap_str=cap_str+str_[indx].upper()+str_[indx:i+1]\n",
    "print(cap_str)"
   ]
  },
  {
   "cell_type": "markdown",
   "id": "ac92d6dd",
   "metadata": {},
   "source": [
    "### 15. Write a python program to find below output using loop:-(Please suggest correction)\n",
    "- Input: - 'Peter Piper Picked A Peck Of Pickled Peppers.'\n",
    "- Output:- 'Peter piper picked a peck of pickled peppers'"
   ]
  },
  {
   "cell_type": "code",
   "execution_count": 9,
   "id": "8bd0d5eb",
   "metadata": {},
   "outputs": [
    {
     "name": "stdout",
     "output_type": "stream",
     "text": [
      "Peter piper picked a peck of pickled peppers\n"
     ]
    }
   ],
   "source": [
    "str_= 'Peter Piper Picked A Peck Of Pickled Peppers'\n",
    "new_str=''\n",
    "indx=0\n",
    "for i in range(0,len(str_)):\n",
    "    if i==5:\n",
    "        new_str=new_str+str_[indx:i]+' '\n",
    "        indx=i+1\n",
    "    elif i>5:\n",
    "        if str_[i]==' ':\n",
    "            current=i\n",
    "            new_str=new_str+str_[indx].lower()+str_[indx+1:current]+' '\n",
    "            indx=i+1\n",
    "        elif i==len(str_)-1:\n",
    "            new_str=new_str+str_[indx].lower()+str_[indx+1:i+1]\n",
    "print(new_str)"
   ]
  },
  {
   "cell_type": "markdown",
   "id": "f3874bc1",
   "metadata": {},
   "source": [
    "### 16. Write a python program to implement index method using loop. If sub_str is found in my_str then it will print the index of first occurrence of first character of matching string in my_str:-\n",
    "- Input: - my_str = 'Peter Piper Picked A Peck Of Pickled Peppers.',\n",
    "- sub_str = 'Pickl'\n",
    "- Output:- 29\n"
   ]
  },
  {
   "cell_type": "code",
   "execution_count": 80,
   "id": "1ff97ddb",
   "metadata": {},
   "outputs": [
    {
     "name": "stdout",
     "output_type": "stream",
     "text": [
      "29\n"
     ]
    }
   ],
   "source": [
    "str_='Peter Piper Picked A Peck Of Pickled Peppers.'\n",
    "sub_str='Pickl'\n",
    "for i in range(0,len(str_)):\n",
    "    if sub_str==str_[i:i+len(sub_str)]:\n",
    "        break\n",
    "print(i)"
   ]
  },
  {
   "cell_type": "markdown",
   "id": "3c947f4d",
   "metadata": {},
   "source": [
    "### 17. Write a python program to implement replace method using loop. If sub_str is found in my_str then it will replace the first occurrence of sub_str with new_str else it will will print sub_str not found:-\n",
    "- Input: - my_str = 'Peter Piper Picked A Peck Of Pickled Peppers.',\n",
    "- sub_str = 'Peck', new_str = 'Pack'\n",
    "- Output: - 'Peter Piper Picked A Pack Of Pickled Peppers.'\n"
   ]
  },
  {
   "cell_type": "code",
   "execution_count": 84,
   "id": "fefa5de1",
   "metadata": {},
   "outputs": [
    {
     "name": "stdout",
     "output_type": "stream",
     "text": [
      "Peter Piper Picked A Pack Of Pickled \n"
     ]
    }
   ],
   "source": [
    "str_='Peter Piper Picked A Peck Of Pickled Peppers.'\n",
    "sub_str='Peck'\n",
    "new_str='Pack'\n",
    "_str_=''\n",
    "indx=0\n",
    "for i in range(0,len(str_)):\n",
    "    if str_[i]==' ':\n",
    "        current=i\n",
    "        if sub_str==str_[indx:current]:\n",
    "            _str_=_str_+new_str+' '\n",
    "        else:\n",
    "            _str_=_str_+str_[indx:current]+' '\n",
    "        indx=i+1\n",
    "    elif i==len(str_)-1:\n",
    "        if sub_str==str_[indx:current]:\n",
    "            _str_=_str_+new_str\n",
    "        else:\n",
    "            _str_=_str_+str_[indx:current]\n",
    "print(_str_)\n",
    "        "
   ]
  },
  {
   "cell_type": "markdown",
   "id": "7b4f3061",
   "metadata": {},
   "source": [
    "### 18. Write a python program to find below output (implements rjust and ljust) using loop:-\n",
    "- Input: - 'Peter Piper Picked A Peck Of Pickled Peppers.'\n",
    "- sub_str ='Peck',\n",
    "- Output:- '*********************Peck********************'\n"
   ]
  },
  {
   "cell_type": "code",
   "execution_count": 100,
   "id": "0ba6aeb5",
   "metadata": {},
   "outputs": [
    {
     "name": "stdout",
     "output_type": "stream",
     "text": [
      "*********************Peck********************\n",
      "45\n",
      "45\n"
     ]
    }
   ],
   "source": [
    "str_='Peter Piper Picked A Peck Of Pickled Peppers.'\n",
    "sub_str='Peck'\n",
    "indx=0\n",
    "new_str=''\n",
    "for i in range(0,len(str_)):\n",
    "    if str_[i]==' ':\n",
    "        current=i\n",
    "        if sub_str==str_[indx:current]:\n",
    "            break\n",
    "        indx=i+1\n",
    "new_str='*'*len(str_[0:indx])+sub_str+'*'*len(str_[current:])\n",
    "print(new_str)\n",
    "print(len(str_))\n",
    "print(len(new_str))"
   ]
  },
  {
   "cell_type": "markdown",
   "id": "d50e36d4",
   "metadata": {},
   "source": [
    "### 19. Write a python program to find below output using loop:-\n",
    "- Input:- 'This is Python class', sep = ' is',\n",
    "- Output:- ['This', 'Python class'] "
   ]
  },
  {
   "cell_type": "code",
   "execution_count": 2,
   "id": "0ec0eb14",
   "metadata": {},
   "outputs": [
    {
     "name": "stdout",
     "output_type": "stream",
     "text": [
      "['Th', ' ', ' Python class']\n"
     ]
    }
   ],
   "source": [
    "str_='This is Python class'\n",
    "lst=[]\n",
    "split=str_.split('is')\n",
    "for i in split:\n",
    "    if i!=' is':\n",
    "        lst.append(i)\n",
    "print(lst)"
   ]
  },
  {
   "cell_type": "code",
   "execution_count": null,
   "id": "da512f65",
   "metadata": {},
   "outputs": [],
   "source": []
  },
  {
   "cell_type": "markdown",
   "id": "d670088a",
   "metadata": {},
   "source": [
    "### 20.  WAP to read input from user. Allow the user to enter more numbers as long as the user enters valid integers. Terminate the program with proper message when they entered value is anything except integer. "
   ]
  },
  {
   "cell_type": "code",
   "execution_count": 122,
   "id": "df723614",
   "metadata": {},
   "outputs": [
    {
     "name": "stdout",
     "output_type": "stream",
     "text": [
      "Enter an interger: 20\n",
      "Enter an interger: 50\n",
      "Enter an interger: n\n",
      "Not a valid interger\n"
     ]
    }
   ],
   "source": [
    "while(True):\n",
    "    str_=input('Enter an interger: ')\n",
    "    n=False\n",
    "    if (str_.isdigit()):\n",
    "        n=True\n",
    "    else:\n",
    "        n=False\n",
    "    if n==True:\n",
    "        continue\n",
    "    else:\n",
    "        print('Not a valid interger')\n",
    "        break"
   ]
  },
  {
   "cell_type": "code",
   "execution_count": 127,
   "id": "c378ed5f",
   "metadata": {},
   "outputs": [
    {
     "name": "stdout",
     "output_type": "stream",
     "text": [
      "Enter an interger: 20\n",
      "Enter an interger: 50\n",
      "Enter an interger: 50.0\n",
      "Enter an interger: 50..0\n",
      "Not a valid interger\n"
     ]
    }
   ],
   "source": [
    "while(True):\n",
    "    str_=input('Enter an number: ')\n",
    "    n=False\n",
    "    if (str_.replace('.','',1).isnumeric()):\n",
    "        n=True\n",
    "    else:\n",
    "        n=False\n",
    "    if n==True:\n",
    "        continue\n",
    "    else:\n",
    "        print('Not a valid number')\n",
    "        break"
   ]
  },
  {
   "cell_type": "markdown",
   "id": "bd917565",
   "metadata": {},
   "source": [
    "### 22.  WAP to read input from a user. Allow the user to enter more numbers as long as the user enters valid numbers. Terminate the program with proper message when the user enters a value anything except valid number. Allow wrong entry 'N' times. "
   ]
  },
  {
   "cell_type": "code",
   "execution_count": 133,
   "id": "7f9df95f",
   "metadata": {},
   "outputs": [
    {
     "name": "stdout",
     "output_type": "stream",
     "text": [
      "How many times wrong entries are allowed?: 5\n",
      "Enter an number: 20.0\n",
      "Enter an number: 20..\n",
      "Enter an number: 20..1\n",
      "Enter an number: 25\n",
      "Enter an number: 69\n",
      "Enter an number: g\n",
      "Enter an number: j\n",
      "Enter an number: 30\n",
      "Enter an number: g\n",
      "You entered  5  times wrong entries.\n"
     ]
    }
   ],
   "source": [
    "N=int(input('How many times wrong entries are allowed?: '))\n",
    "count=1\n",
    "while(True):\n",
    "    str_=input('Enter an number: ')\n",
    "    n=False\n",
    "    if (str_.replace('.','',1).isnumeric()):\n",
    "        n=True\n",
    "    else:\n",
    "        n=False\n",
    "    if n==True:\n",
    "        continue\n",
    "    else:\n",
    "        count+=1\n",
    "        if (count<=N):\n",
    "            pass\n",
    "        else:\n",
    "            print('You entered ',N,' times wrong entries.')\n",
    "            break"
   ]
  },
  {
   "cell_type": "code",
   "execution_count": null,
   "id": "62946e6b",
   "metadata": {},
   "outputs": [],
   "source": []
  },
  {
   "cell_type": "code",
   "execution_count": null,
   "id": "b11b5f22",
   "metadata": {},
   "outputs": [],
   "source": []
  }
 ],
 "metadata": {
  "kernelspec": {
   "display_name": "Python 3",
   "language": "python",
   "name": "python3"
  },
  "language_info": {
   "codemirror_mode": {
    "name": "ipython",
    "version": 3
   },
   "file_extension": ".py",
   "mimetype": "text/x-python",
   "name": "python",
   "nbconvert_exporter": "python",
   "pygments_lexer": "ipython3",
   "version": "3.8.8"
  }
 },
 "nbformat": 4,
 "nbformat_minor": 5
}
