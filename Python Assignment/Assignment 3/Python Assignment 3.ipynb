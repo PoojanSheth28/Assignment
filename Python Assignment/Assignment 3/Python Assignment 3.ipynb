{
 "cells": [
  {
   "cell_type": "markdown",
   "id": "f36b408e",
   "metadata": {},
   "source": [
    "# NAME: POOJAN SHETH\n"
   ]
  },
  {
   "cell_type": "code",
   "execution_count": null,
   "id": "ad78fb69",
   "metadata": {},
   "outputs": [],
   "source": []
  },
  {
   "cell_type": "markdown",
   "id": "4f7f2787",
   "metadata": {},
   "source": [
    "# Python Assignment 3"
   ]
  },
  {
   "cell_type": "code",
   "execution_count": null,
   "id": "33cb8eb6",
   "metadata": {},
   "outputs": [],
   "source": []
  },
  {
   "cell_type": "markdown",
   "id": "2584ef01",
   "metadata": {},
   "source": [
    "## Functions \n",
    "### 1. Define a Sum Function which accepts variable number of integers as an arguments. "
   ]
  },
  {
   "cell_type": "code",
   "execution_count": 5,
   "id": "649b9d6c",
   "metadata": {},
   "outputs": [
    {
     "name": "stdout",
     "output_type": "stream",
     "text": [
      "41\n"
     ]
    }
   ],
   "source": [
    "def add(*n):\n",
    "    return sum(n)\n",
    "print(add(10,20,5,6))"
   ]
  },
  {
   "cell_type": "markdown",
   "id": "d04b8d3a",
   "metadata": {},
   "source": [
    "### 2. WAF to find factorial of a positive number. Return -1 if input to the function is any invalid input. "
   ]
  },
  {
   "cell_type": "code",
   "execution_count": 18,
   "id": "87ac0452",
   "metadata": {},
   "outputs": [
    {
     "name": "stdout",
     "output_type": "stream",
     "text": [
      "Enter an integer: 6\n",
      "720\n"
     ]
    }
   ],
   "source": [
    "def fact(n):\n",
    "    a=1\n",
    "    if n==0:\n",
    "        return 1\n",
    "    elif n<0:\n",
    "        return -1\n",
    "    for i in range(1,n+1):\n",
    "        a=a*i\n",
    "    return a\n",
    "        \n",
    "            \n",
    "num=int(input('Enter an integer: '))\n",
    "print(fact(num))"
   ]
  },
  {
   "cell_type": "code",
   "execution_count": 5,
   "id": "292c3e5f",
   "metadata": {},
   "outputs": [
    {
     "name": "stdout",
     "output_type": "stream",
     "text": [
      "Enter an integer: 3\n",
      "6\n"
     ]
    }
   ],
   "source": [
    "def fact(n):\n",
    "    a=1\n",
    "    i=1\n",
    "    if n==0:\n",
    "        return 1\n",
    "    elif n<0:\n",
    "        return -1\n",
    "    while i<=n:\n",
    "        a=a*i\n",
    "        i=i+1\n",
    "    return a\n",
    "        \n",
    "            \n",
    "num=int(input('Enter an integer: '))\n",
    "print(fact(num))"
   ]
  },
  {
   "cell_type": "markdown",
   "id": "b050c737",
   "metadata": {},
   "source": [
    "### 5. Using recursive function \n",
    "### 6. WAF to swap two numbers."
   ]
  },
  {
   "cell_type": "code",
   "execution_count": 3,
   "id": "1ca71da4",
   "metadata": {},
   "outputs": [
    {
     "name": "stdout",
     "output_type": "stream",
     "text": [
      "Before swapping a= 1  b= 2\n",
      "After swapping a= 2  b= 1\n"
     ]
    }
   ],
   "source": [
    "def swap(n1,n2):\n",
    "    print('Before swapping a=',n1,' b=',n2)\n",
    "    n1,n2=n2,n1\n",
    "    return print('After swapping a=',n1,' b=',n2)\n",
    "swap(1,2)"
   ]
  },
  {
   "cell_type": "markdown",
   "id": "1d422ecf",
   "metadata": {},
   "source": [
    "### 7. WAF to implement basic calculator."
   ]
  },
  {
   "cell_type": "code",
   "execution_count": 41,
   "id": "7f222f6f",
   "metadata": {},
   "outputs": [
    {
     "data": {
      "text/plain": [
       "3"
      ]
     },
     "execution_count": 41,
     "metadata": {},
     "output_type": "execute_result"
    }
   ],
   "source": [
    "def cal(n1,n2,op):\n",
    "    if op == '+':\n",
    "        return n1+n2\n",
    "    elif op == '-':\n",
    "        return n1 - n2\n",
    "    elif op == '*':\n",
    "        return n1*n2\n",
    "    elif op == '/':\n",
    "        if n2 == 0:\n",
    "            return \"Division by zero is not possible\"\n",
    "        else:\n",
    "            return n1/n2\n",
    "cal(1,2,'+')"
   ]
  },
  {
   "cell_type": "markdown",
   "id": "22d27709",
   "metadata": {},
   "source": [
    "### 8. Write a lambda function which find square of a number"
   ]
  },
  {
   "cell_type": "code",
   "execution_count": 5,
   "id": "79764a90",
   "metadata": {},
   "outputs": [
    {
     "name": "stdout",
     "output_type": "stream",
     "text": [
      "25\n"
     ]
    }
   ],
   "source": [
    "square= lambda n:n**2\n",
    "print(square(5))"
   ]
  },
  {
   "cell_type": "markdown",
   "id": "14c21d93",
   "metadata": {},
   "source": [
    "### 9. Declare a List with Numbers from 1 to 100 using List Comprehension. Use the lambda and filter function to filter all even numbers.\n"
   ]
  },
  {
   "cell_type": "code",
   "execution_count": 8,
   "id": "96f96f0e",
   "metadata": {},
   "outputs": [
    {
     "name": "stdout",
     "output_type": "stream",
     "text": [
      "List:  [1, 2, 3, 4, 5, 6, 7, 8, 9, 10, 11, 12, 13, 14, 15, 16, 17, 18, 19, 20, 21, 22, 23, 24, 25, 26, 27, 28, 29, 30, 31, 32, 33, 34, 35, 36, 37, 38, 39, 40, 41, 42, 43, 44, 45, 46, 47, 48, 49, 50, 51, 52, 53, 54, 55, 56, 57, 58, 59, 60, 61, 62, 63, 64, 65, 66, 67, 68, 69, 70, 71, 72, 73, 74, 75, 76, 77, 78, 79, 80, 81, 82, 83, 84, 85, 86, 87, 88, 89, 90, 91, 92, 93, 94, 95, 96, 97, 98, 99, 100]\n",
      "List of even numbers:  [2, 4, 6, 8, 10, 12, 14, 16, 18, 20, 22, 24, 26, 28, 30, 32, 34, 36, 38, 40, 42, 44, 46, 48, 50, 52, 54, 56, 58, 60, 62, 64, 66, 68, 70, 72, 74, 76, 78, 80, 82, 84, 86, 88, 90, 92, 94, 96, 98, 100]\n"
     ]
    }
   ],
   "source": [
    "lst=[i for i in range(1,101)]\n",
    "print('List: ',lst)\n",
    "even=list(filter(lambda n:n%2==0,lst))\n",
    "print('List of even numbers: ',even)"
   ]
  },
  {
   "cell_type": "markdown",
   "id": "1b891c05",
   "metadata": {},
   "source": [
    "### 10. [‘male’,’female’,’male’,’female’,’male’,’female’,’female’,’female’] => Replace ‘male’ with 0 and ‘female’ with 1 using lambda function and map function"
   ]
  },
  {
   "cell_type": "code",
   "execution_count": 15,
   "id": "732e763d",
   "metadata": {},
   "outputs": [
    {
     "data": {
      "text/plain": [
       "[0, 1, 0, 1, 0, 1, 1, 1]"
      ]
     },
     "execution_count": 15,
     "metadata": {},
     "output_type": "execute_result"
    }
   ],
   "source": [
    "inpt=['male','female','male','female','male','female','female','female']\n",
    "list(map(lambda n:0 if n.lower()=='male' else 1 if n.lower()=='female' else 2,inpt))"
   ]
  },
  {
   "cell_type": "markdown",
   "id": "62ab8103",
   "metadata": {},
   "source": [
    "### 11. Find Fibonacci series for given length using lambda and reduce function"
   ]
  },
  {
   "cell_type": "code",
   "execution_count": 22,
   "id": "a91d2ae6",
   "metadata": {},
   "outputs": [
    {
     "name": "stdout",
     "output_type": "stream",
     "text": [
      "Enter Length: 10\n"
     ]
    },
    {
     "data": {
      "text/plain": [
       "[0, 1, 1, 2, 3, 5, 8, 13, 21, 34]"
      ]
     },
     "execution_count": 22,
     "metadata": {},
     "output_type": "execute_result"
    }
   ],
   "source": [
    "N=int(input('Enter Length: '))\n",
    "from functools import reduce\n",
    "list(reduce(lambda x,y:x+[x[-2]+x[-1]],range(1,N-1),[0,1]))"
   ]
  },
  {
   "cell_type": "markdown",
   "id": "2d3b69fc",
   "metadata": {},
   "source": [
    "### 12. Find intersection of two arrays using lambda and filter function"
   ]
  },
  {
   "cell_type": "code",
   "execution_count": 23,
   "id": "480f94b7",
   "metadata": {},
   "outputs": [
    {
     "data": {
      "text/plain": [
       "[1, 2, 3]"
      ]
     },
     "execution_count": 23,
     "metadata": {},
     "output_type": "execute_result"
    }
   ],
   "source": [
    "array1=[1,2,3,4,5]\n",
    "array2=[-1,0,1,2,3]\n",
    "list(filter(lambda x:x in array1,array2))"
   ]
  },
  {
   "cell_type": "markdown",
   "id": "49184fb1",
   "metadata": {},
   "source": [
    "### 13. WAF to check the type of the data with the signature as follow: def find_type(var):\n",
    "- i. Examples\n",
    "1. Input1: var = True=> output1 = Bool type\n",
    "2. Input2: var = 4 => output2 = int type\n",
    "3. Input3: var = [3, 4, 5, 6]=> output3 = list "
   ]
  },
  {
   "cell_type": "code",
   "execution_count": 30,
   "id": "251471b1",
   "metadata": {},
   "outputs": [
    {
     "name": "stdout",
     "output_type": "stream",
     "text": [
      "Float\n"
     ]
    }
   ],
   "source": [
    "def find_type(var):\n",
    "    if type(var)==int:\n",
    "        return print('Integer')\n",
    "    elif type(var)==str:\n",
    "        return print('String')\n",
    "    elif type(var)==float:\n",
    "        return print('Float')\n",
    "    elif type(var)==bool:\n",
    "        return print('Boolean')\n",
    "    elif type(var)==list:\n",
    "        return print('List')\n",
    "    elif type(var)==tuple:\n",
    "        return print('Tuple')\n",
    "    elif type(var)==dict:\n",
    "        return print('Dictionary')\n",
    "    elif type(var)==set:\n",
    "        return print('Set')\n",
    "find_type(40.1)"
   ]
  },
  {
   "cell_type": "markdown",
   "id": "698aefb1",
   "metadata": {},
   "source": [
    "### 14.  WAF to check if a number is even or odd using lambda expression."
   ]
  },
  {
   "cell_type": "code",
   "execution_count": 34,
   "id": "bb25687a",
   "metadata": {},
   "outputs": [
    {
     "data": {
      "text/plain": [
       "'number is odd'"
      ]
     },
     "execution_count": 34,
     "metadata": {},
     "output_type": "execute_result"
    }
   ],
   "source": [
    "num=lambda x:'number is even' if x%2==0 else 'number is odd' \n",
    "num(3)"
   ]
  },
  {
   "cell_type": "markdown",
   "id": "d267099a",
   "metadata": {},
   "source": [
    "### 15. WAF to return appropriate message as follows: If the sequence is in ascending order: return “Ascending order” If the sequence is in descending order: return “Descending order” Else: “Random order” "
   ]
  },
  {
   "cell_type": "code",
   "execution_count": 39,
   "id": "a2e8e8cf",
   "metadata": {},
   "outputs": [
    {
     "name": "stdout",
     "output_type": "stream",
     "text": [
      "Random order\n",
      "Ascending order\n",
      "Random order\n",
      "Random order\n",
      "Ascending order\n",
      "Random order\n",
      "Desecnding order\n",
      "Desecnding order\n",
      "Random order\n"
     ]
    }
   ],
   "source": [
    "def order(n):\n",
    "    asc,des=False, False\n",
    "    for i in range(0,len(n)-1):\n",
    "        if n[i]<=n[i+1]:\n",
    "            asc=True\n",
    "        else:\n",
    "            asc=False\n",
    "            break\n",
    "    for i in range(0,len(n)-1):\n",
    "        if n[i]>=n[i+1]:\n",
    "            des=True\n",
    "        else:\n",
    "            des=False\n",
    "            break\n",
    "    if asc:\n",
    "        return print('Ascending order')\n",
    "    elif des:\n",
    "        return print('Desecnding order')\n",
    "    else:\n",
    "        return print('Random order')\n",
    "\n",
    "order((10,10,20,30,20,20))\n",
    "order((20,20,30,30,30,40,40,40))\n",
    "order((20,20,30,30,30,29,40,40,40))\n",
    "order((20,20,30,30,30,40,40,40,10))\n",
    "order((20,20,20,30,30,30,40,40,40))\n",
    "order((20,20,30,30,30,40,40,40,31))\n",
    "order((40,40,40,30,20,20,20))\n",
    "order((40,40,40,30,20,20,20,10))\n",
    "order((40,40,40,30,10,20,20)) "
   ]
  },
  {
   "cell_type": "code",
   "execution_count": null,
   "id": "79a0a965",
   "metadata": {},
   "outputs": [],
   "source": []
  },
  {
   "cell_type": "code",
   "execution_count": null,
   "id": "2699c2c1",
   "metadata": {},
   "outputs": [],
   "source": []
  },
  {
   "cell_type": "code",
   "execution_count": null,
   "id": "21096fea",
   "metadata": {},
   "outputs": [],
   "source": []
  },
  {
   "cell_type": "code",
   "execution_count": null,
   "id": "1e25c86f",
   "metadata": {},
   "outputs": [],
   "source": []
  },
  {
   "cell_type": "code",
   "execution_count": null,
   "id": "313e4ea9",
   "metadata": {},
   "outputs": [],
   "source": []
  },
  {
   "cell_type": "code",
   "execution_count": null,
   "id": "64871d0d",
   "metadata": {},
   "outputs": [],
   "source": []
  },
  {
   "cell_type": "code",
   "execution_count": null,
   "id": "a99a033c",
   "metadata": {},
   "outputs": [],
   "source": []
  },
  {
   "cell_type": "code",
   "execution_count": null,
   "id": "e880e010",
   "metadata": {},
   "outputs": [],
   "source": []
  }
 ],
 "metadata": {
  "kernelspec": {
   "display_name": "Python 3",
   "language": "python",
   "name": "python3"
  },
  "language_info": {
   "codemirror_mode": {
    "name": "ipython",
    "version": 3
   },
   "file_extension": ".py",
   "mimetype": "text/x-python",
   "name": "python",
   "nbconvert_exporter": "python",
   "pygments_lexer": "ipython3",
   "version": "3.8.8"
  }
 },
 "nbformat": 4,
 "nbformat_minor": 5
}
