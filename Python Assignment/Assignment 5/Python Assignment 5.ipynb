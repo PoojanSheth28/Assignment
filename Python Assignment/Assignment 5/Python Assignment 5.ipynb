{
 "cells": [
  {
   "cell_type": "markdown",
   "id": "b661a777",
   "metadata": {},
   "source": [
    "# NAME: POOJAN SHETH\n"
   ]
  },
  {
   "cell_type": "code",
   "execution_count": null,
   "id": "8309c100",
   "metadata": {},
   "outputs": [],
   "source": []
  },
  {
   "cell_type": "markdown",
   "id": "d4210b82",
   "metadata": {},
   "source": [
    "# Python Assignment 5"
   ]
  },
  {
   "cell_type": "code",
   "execution_count": null,
   "id": "282a90b9",
   "metadata": {},
   "outputs": [],
   "source": []
  },
  {
   "cell_type": "markdown",
   "id": "714b18e2",
   "metadata": {},
   "source": [
    "## Numpy"
   ]
  },
  {
   "cell_type": "markdown",
   "id": "3a68dc4c",
   "metadata": {},
   "source": [
    "### 1. Write a Python program to print the NumPy version in your system.\n"
   ]
  },
  {
   "cell_type": "code",
   "execution_count": 4,
   "id": "eb1cd5ce",
   "metadata": {},
   "outputs": [
    {
     "data": {
      "text/plain": [
       "'1.22.3'"
      ]
     },
     "execution_count": 4,
     "metadata": {},
     "output_type": "execute_result"
    }
   ],
   "source": [
    "import numpy as np\n",
    "np.__version__"
   ]
  },
  {
   "cell_type": "markdown",
   "id": "5ef04d5a",
   "metadata": {},
   "source": [
    "### 2. Write a Python program to convert a list of numeric value into a one- dimensional NumPy array"
   ]
  },
  {
   "cell_type": "code",
   "execution_count": 5,
   "id": "3c89f67c",
   "metadata": {},
   "outputs": [
    {
     "name": "stdout",
     "output_type": "stream",
     "text": [
      "6 <class 'numpy.ndarray'>\n"
     ]
    },
    {
     "data": {
      "text/plain": [
       "array([25, 60, 21, 30, 80, 50])"
      ]
     },
     "execution_count": 5,
     "metadata": {},
     "output_type": "execute_result"
    }
   ],
   "source": [
    "lst=[25,60,21,30,80,50]\n",
    "arr=np.array(lst)\n",
    "print(arr.size,type(arr))\n",
    "arr"
   ]
  },
  {
   "cell_type": "markdown",
   "id": "c7e66fa7",
   "metadata": {},
   "source": [
    "### 3. Write a Python program to create an array with values ranging from 12 to 38."
   ]
  },
  {
   "cell_type": "code",
   "execution_count": 19,
   "id": "40d80288",
   "metadata": {},
   "outputs": [
    {
     "data": {
      "text/plain": [
       "array([12, 13, 14, 15, 16, 17, 18, 19, 20, 21, 22, 23, 24, 25, 26, 27, 28,\n",
       "       29, 30, 31, 32, 33, 34, 35, 36, 37, 38])"
      ]
     },
     "execution_count": 19,
     "metadata": {},
     "output_type": "execute_result"
    }
   ],
   "source": [
    "np.arange(12,39)"
   ]
  },
  {
   "cell_type": "markdown",
   "id": "50c499a6",
   "metadata": {},
   "source": [
    "### 4. Write a Python program to convert a list and tuple into arrays."
   ]
  },
  {
   "cell_type": "code",
   "execution_count": 12,
   "id": "df324526",
   "metadata": {},
   "outputs": [
    {
     "data": {
      "text/plain": [
       "(array([ 1,  2,  3,  4,  5,  6,  7,  8,  9, 10]),\n",
       " array(['p', 'y', 't', 'h', 'o', 'n'], dtype='<U1'))"
      ]
     },
     "execution_count": 12,
     "metadata": {},
     "output_type": "execute_result"
    }
   ],
   "source": [
    "lst=[1,2,3,4,5,6,7,8,9,10]\n",
    "arr1=np.array(lst)\n",
    "tpl=('p','y','t','h','o','n')\n",
    "arr2=np.array(tpl)\n",
    "arr1,arr2"
   ]
  },
  {
   "cell_type": "markdown",
   "id": "b651720e",
   "metadata": {},
   "source": [
    "### 5. Write a Python program to find the number of elements of an array, length of one array element in bytes and total bytes consumed by the elements."
   ]
  },
  {
   "cell_type": "code",
   "execution_count": 18,
   "id": "fcaa45c4",
   "metadata": {},
   "outputs": [
    {
     "name": "stdout",
     "output_type": "stream",
     "text": [
      "Number of elements of an array are  10\n",
      "Length of one array element in bytes is  4\n",
      "Total bytes consumed by the elements are  40\n"
     ]
    }
   ],
   "source": [
    "lst=[1,2,3,4,5,6,7,8,9,10]\n",
    "arr=np.array(lst)\n",
    "print('Number of elements of an array are ',arr.size)\n",
    "print('Length of one array element in bytes is ',arr.itemsize)\n",
    "print('Total bytes consumed by the elements are ',arr.nbytes)"
   ]
  },
  {
   "cell_type": "markdown",
   "id": "938c37db",
   "metadata": {},
   "source": [
    "### 6. Write a Python program compare two arrays using numpy."
   ]
  },
  {
   "cell_type": "code",
   "execution_count": 26,
   "id": "38ecbb6f",
   "metadata": {},
   "outputs": [
    {
     "name": "stdout",
     "output_type": "stream",
     "text": [
      "[False False False False False False False False False False]\n",
      "[False False False False False False False False False False]\n",
      "[ True  True  True  True  True  True  True  True  True  True]\n",
      "[ True  True  True  True  True  True  True  True  True  True]\n"
     ]
    }
   ],
   "source": [
    "lst=[1,2,3,4,5,6,7,8,9,10]\n",
    "arr1=np.array(lst)\n",
    "tpl=(11,12,13,14,15,16,17,18,19,20)\n",
    "arr2=np.array(tpl)\n",
    "print(np.greater(arr1,arr2))\n",
    "print(np.greater_equal(arr1,arr2))\n",
    "print(np.less(arr1,arr2))\n",
    "print(np.less_equal(arr1,arr2))\n"
   ]
  },
  {
   "cell_type": "markdown",
   "id": "17b14cf7",
   "metadata": {},
   "source": [
    "### 7. Write a Python program to get the number of nonzero elements in an array."
   ]
  },
  {
   "cell_type": "code",
   "execution_count": 31,
   "id": "2e3368ac",
   "metadata": {},
   "outputs": [
    {
     "data": {
      "text/plain": [
       "10"
      ]
     },
     "execution_count": 31,
     "metadata": {},
     "output_type": "execute_result"
    }
   ],
   "source": [
    "np.count_nonzero(np.arange(0,11))"
   ]
  },
  {
   "cell_type": "markdown",
   "id": "cc84b847",
   "metadata": {},
   "source": [
    "### 8. Write a Python program to check whether the numpy array is empty or not."
   ]
  },
  {
   "cell_type": "code",
   "execution_count": 37,
   "id": "3ac1d038",
   "metadata": {},
   "outputs": [
    {
     "name": "stdout",
     "output_type": "stream",
     "text": [
      "Array is empty\n"
     ]
    }
   ],
   "source": [
    "lst=[]\n",
    "arr=np.array(lst)\n",
    "if np.size(arr)>0:\n",
    "    print('Array is not empty')\n",
    "elif np.size(arr)==0:\n",
    "    print('Array is empty')"
   ]
  },
  {
   "cell_type": "markdown",
   "id": "6be03d06",
   "metadata": {},
   "source": [
    "### 9. Write a Python program to get the powers of an array values element-wise."
   ]
  },
  {
   "cell_type": "code",
   "execution_count": 39,
   "id": "43a0e474",
   "metadata": {},
   "outputs": [
    {
     "data": {
      "text/plain": [
       "array([ 0,  1,  4,  9, 16, 25, 36, 49, 64, 81], dtype=int32)"
      ]
     },
     "execution_count": 39,
     "metadata": {},
     "output_type": "execute_result"
    }
   ],
   "source": [
    "arr=np.arange(10)\n",
    "power=np.power(arr,2)\n",
    "power"
   ]
  },
  {
   "cell_type": "markdown",
   "id": "68117daa",
   "metadata": {},
   "source": [
    "### 10. Write a Python program to stack two arrays: 1) row-wise 2) column-wise\n",
    "- Arr1 = np.linspace(1,20,50)\n",
    "- Arr2 = np.linspace(21,40,50)\n"
   ]
  },
  {
   "cell_type": "code",
   "execution_count": 42,
   "id": "84f10caf",
   "metadata": {},
   "outputs": [
    {
     "data": {
      "text/plain": [
       "array([[ 1.        ,  1.3877551 ,  1.7755102 ,  2.16326531,  2.55102041,\n",
       "         2.93877551,  3.32653061,  3.71428571,  4.10204082,  4.48979592,\n",
       "         4.87755102,  5.26530612,  5.65306122,  6.04081633,  6.42857143,\n",
       "         6.81632653,  7.20408163,  7.59183673,  7.97959184,  8.36734694,\n",
       "         8.75510204,  9.14285714,  9.53061224,  9.91836735, 10.30612245,\n",
       "        10.69387755, 11.08163265, 11.46938776, 11.85714286, 12.24489796,\n",
       "        12.63265306, 13.02040816, 13.40816327, 13.79591837, 14.18367347,\n",
       "        14.57142857, 14.95918367, 15.34693878, 15.73469388, 16.12244898,\n",
       "        16.51020408, 16.89795918, 17.28571429, 17.67346939, 18.06122449,\n",
       "        18.44897959, 18.83673469, 19.2244898 , 19.6122449 , 20.        ],\n",
       "       [21.        , 21.3877551 , 21.7755102 , 22.16326531, 22.55102041,\n",
       "        22.93877551, 23.32653061, 23.71428571, 24.10204082, 24.48979592,\n",
       "        24.87755102, 25.26530612, 25.65306122, 26.04081633, 26.42857143,\n",
       "        26.81632653, 27.20408163, 27.59183673, 27.97959184, 28.36734694,\n",
       "        28.75510204, 29.14285714, 29.53061224, 29.91836735, 30.30612245,\n",
       "        30.69387755, 31.08163265, 31.46938776, 31.85714286, 32.24489796,\n",
       "        32.63265306, 33.02040816, 33.40816327, 33.79591837, 34.18367347,\n",
       "        34.57142857, 34.95918367, 35.34693878, 35.73469388, 36.12244898,\n",
       "        36.51020408, 36.89795918, 37.28571429, 37.67346939, 38.06122449,\n",
       "        38.44897959, 38.83673469, 39.2244898 , 39.6122449 , 40.        ]])"
      ]
     },
     "execution_count": 42,
     "metadata": {},
     "output_type": "execute_result"
    }
   ],
   "source": [
    "arr1 = np.linspace(1,20,50)\n",
    "arr2 = np.linspace(21,40,50)\n",
    "np.row_stack((arr1,arr2))"
   ]
  },
  {
   "cell_type": "code",
   "execution_count": 43,
   "id": "fac6fb17",
   "metadata": {},
   "outputs": [
    {
     "data": {
      "text/plain": [
       "array([[ 1.        , 21.        ],\n",
       "       [ 1.3877551 , 21.3877551 ],\n",
       "       [ 1.7755102 , 21.7755102 ],\n",
       "       [ 2.16326531, 22.16326531],\n",
       "       [ 2.55102041, 22.55102041],\n",
       "       [ 2.93877551, 22.93877551],\n",
       "       [ 3.32653061, 23.32653061],\n",
       "       [ 3.71428571, 23.71428571],\n",
       "       [ 4.10204082, 24.10204082],\n",
       "       [ 4.48979592, 24.48979592],\n",
       "       [ 4.87755102, 24.87755102],\n",
       "       [ 5.26530612, 25.26530612],\n",
       "       [ 5.65306122, 25.65306122],\n",
       "       [ 6.04081633, 26.04081633],\n",
       "       [ 6.42857143, 26.42857143],\n",
       "       [ 6.81632653, 26.81632653],\n",
       "       [ 7.20408163, 27.20408163],\n",
       "       [ 7.59183673, 27.59183673],\n",
       "       [ 7.97959184, 27.97959184],\n",
       "       [ 8.36734694, 28.36734694],\n",
       "       [ 8.75510204, 28.75510204],\n",
       "       [ 9.14285714, 29.14285714],\n",
       "       [ 9.53061224, 29.53061224],\n",
       "       [ 9.91836735, 29.91836735],\n",
       "       [10.30612245, 30.30612245],\n",
       "       [10.69387755, 30.69387755],\n",
       "       [11.08163265, 31.08163265],\n",
       "       [11.46938776, 31.46938776],\n",
       "       [11.85714286, 31.85714286],\n",
       "       [12.24489796, 32.24489796],\n",
       "       [12.63265306, 32.63265306],\n",
       "       [13.02040816, 33.02040816],\n",
       "       [13.40816327, 33.40816327],\n",
       "       [13.79591837, 33.79591837],\n",
       "       [14.18367347, 34.18367347],\n",
       "       [14.57142857, 34.57142857],\n",
       "       [14.95918367, 34.95918367],\n",
       "       [15.34693878, 35.34693878],\n",
       "       [15.73469388, 35.73469388],\n",
       "       [16.12244898, 36.12244898],\n",
       "       [16.51020408, 36.51020408],\n",
       "       [16.89795918, 36.89795918],\n",
       "       [17.28571429, 37.28571429],\n",
       "       [17.67346939, 37.67346939],\n",
       "       [18.06122449, 38.06122449],\n",
       "       [18.44897959, 38.44897959],\n",
       "       [18.83673469, 38.83673469],\n",
       "       [19.2244898 , 39.2244898 ],\n",
       "       [19.6122449 , 39.6122449 ],\n",
       "       [20.        , 40.        ]])"
      ]
     },
     "execution_count": 43,
     "metadata": {},
     "output_type": "execute_result"
    }
   ],
   "source": [
    "arr1 = np.linspace(1,20,50)\n",
    "arr2 = np.linspace(21,40,50)\n",
    "np.column_stack((arr1,arr2))"
   ]
  },
  {
   "cell_type": "markdown",
   "id": "39caee87",
   "metadata": {},
   "source": [
    "## Pandas (Series and DataFrame)"
   ]
  },
  {
   "cell_type": "markdown",
   "id": "a56a3ffd",
   "metadata": {},
   "source": [
    "### 1. Write a Python program to create and display a one-dimensional array-like object containing an array of data using Pandas module."
   ]
  },
  {
   "cell_type": "code",
   "execution_count": 2,
   "id": "8a943551",
   "metadata": {},
   "outputs": [],
   "source": [
    "import pandas as pd"
   ]
  },
  {
   "cell_type": "code",
   "execution_count": 4,
   "id": "0b9a2099",
   "metadata": {},
   "outputs": [
    {
     "data": {
      "text/plain": [
       "0      0\n",
       "1      2\n",
       "2      4\n",
       "3      6\n",
       "4      8\n",
       "5     10\n",
       "6     12\n",
       "7     14\n",
       "8     16\n",
       "9     18\n",
       "10    20\n",
       "11    22\n",
       "12    24\n",
       "13    26\n",
       "14    28\n",
       "15    30\n",
       "dtype: int64"
      ]
     },
     "execution_count": 4,
     "metadata": {},
     "output_type": "execute_result"
    }
   ],
   "source": [
    "s=pd.Series(range(0,31,2))\n",
    "s"
   ]
  },
  {
   "cell_type": "markdown",
   "id": "fa6be02e",
   "metadata": {},
   "source": [
    "### 2. Write a Python program to convert a Panda module Series to Python list and its type."
   ]
  },
  {
   "cell_type": "code",
   "execution_count": 11,
   "id": "9f30b466",
   "metadata": {},
   "outputs": [
    {
     "name": "stdout",
     "output_type": "stream",
     "text": [
      "0     1\n",
      "1     2\n",
      "2     3\n",
      "3     4\n",
      "4     5\n",
      "5     6\n",
      "6     7\n",
      "7     8\n",
      "8     9\n",
      "9    10\n",
      "dtype: int64\n",
      "<class 'pandas.core.series.Series'>\n",
      "[1, 2, 3, 4, 5, 6, 7, 8, 9, 10]\n",
      "<class 'list'>\n"
     ]
    }
   ],
   "source": [
    "s=pd.Series([1,2,3,4,5,6,7,8,9,10])\n",
    "print(s)\n",
    "print(type(s))\n",
    "s1=s.to_list()\n",
    "print(s1)\n",
    "print(type(s1))"
   ]
  },
  {
   "cell_type": "markdown",
   "id": "37bde108",
   "metadata": {},
   "source": [
    "### 3. Write a Python program to add, subtract, multiple and divide two Pandas Series."
   ]
  },
  {
   "cell_type": "code",
   "execution_count": 19,
   "id": "5635723e",
   "metadata": {},
   "outputs": [],
   "source": [
    "s1=pd.Series(range(1,51,10))\n",
    "s2=pd.Series(range(41,91,10))\n"
   ]
  },
  {
   "cell_type": "code",
   "execution_count": 20,
   "id": "2d446b63",
   "metadata": {},
   "outputs": [
    {
     "data": {
      "text/plain": [
       "0     42\n",
       "1     62\n",
       "2     82\n",
       "3    102\n",
       "4    122\n",
       "dtype: int64"
      ]
     },
     "execution_count": 20,
     "metadata": {},
     "output_type": "execute_result"
    }
   ],
   "source": [
    "s1+s2"
   ]
  },
  {
   "cell_type": "code",
   "execution_count": 21,
   "id": "7d7168fd",
   "metadata": {},
   "outputs": [
    {
     "data": {
      "text/plain": [
       "0   -40\n",
       "1   -40\n",
       "2   -40\n",
       "3   -40\n",
       "4   -40\n",
       "dtype: int64"
      ]
     },
     "execution_count": 21,
     "metadata": {},
     "output_type": "execute_result"
    }
   ],
   "source": [
    "s1-s2"
   ]
  },
  {
   "cell_type": "code",
   "execution_count": 22,
   "id": "abc68c84",
   "metadata": {},
   "outputs": [
    {
     "data": {
      "text/plain": [
       "0      41\n",
       "1     561\n",
       "2    1281\n",
       "3    2201\n",
       "4    3321\n",
       "dtype: int64"
      ]
     },
     "execution_count": 22,
     "metadata": {},
     "output_type": "execute_result"
    }
   ],
   "source": [
    "s1*s2"
   ]
  },
  {
   "cell_type": "code",
   "execution_count": 23,
   "id": "42e515c7",
   "metadata": {},
   "outputs": [
    {
     "data": {
      "text/plain": [
       "0    0.024390\n",
       "1    0.215686\n",
       "2    0.344262\n",
       "3    0.436620\n",
       "4    0.506173\n",
       "dtype: float64"
      ]
     },
     "execution_count": 23,
     "metadata": {},
     "output_type": "execute_result"
    }
   ],
   "source": [
    "s1/s2"
   ]
  },
  {
   "cell_type": "markdown",
   "id": "c32829c6",
   "metadata": {},
   "source": [
    "### 4. Write a Python program to compare the elements of the two Pandas Series."
   ]
  },
  {
   "cell_type": "code",
   "execution_count": 24,
   "id": "6aca4605",
   "metadata": {},
   "outputs": [],
   "source": [
    "s1=pd.Series(range(1,51,10))\n",
    "s2=pd.Series(range(41,91,10))"
   ]
  },
  {
   "cell_type": "code",
   "execution_count": 29,
   "id": "e39cf4e6",
   "metadata": {},
   "outputs": [
    {
     "data": {
      "text/plain": [
       "0    False\n",
       "1    False\n",
       "2    False\n",
       "3    False\n",
       "4    False\n",
       "dtype: bool"
      ]
     },
     "execution_count": 29,
     "metadata": {},
     "output_type": "execute_result"
    }
   ],
   "source": [
    "s1>=s2"
   ]
  },
  {
   "cell_type": "code",
   "execution_count": 30,
   "id": "e8ce0edc",
   "metadata": {},
   "outputs": [
    {
     "data": {
      "text/plain": [
       "0    True\n",
       "1    True\n",
       "2    True\n",
       "3    True\n",
       "4    True\n",
       "dtype: bool"
      ]
     },
     "execution_count": 30,
     "metadata": {},
     "output_type": "execute_result"
    }
   ],
   "source": [
    "s1<=s2"
   ]
  },
  {
   "cell_type": "code",
   "execution_count": 27,
   "id": "4bcf4bac",
   "metadata": {},
   "outputs": [
    {
     "data": {
      "text/plain": [
       "0    False\n",
       "1    False\n",
       "2    False\n",
       "3    False\n",
       "4    False\n",
       "dtype: bool"
      ]
     },
     "execution_count": 27,
     "metadata": {},
     "output_type": "execute_result"
    }
   ],
   "source": [
    "s1==s2"
   ]
  },
  {
   "cell_type": "code",
   "execution_count": 28,
   "id": "daff2323",
   "metadata": {},
   "outputs": [
    {
     "data": {
      "text/plain": [
       "0    True\n",
       "1    True\n",
       "2    True\n",
       "3    True\n",
       "4    True\n",
       "dtype: bool"
      ]
     },
     "execution_count": 28,
     "metadata": {},
     "output_type": "execute_result"
    }
   ],
   "source": [
    "s1!=s2"
   ]
  },
  {
   "cell_type": "markdown",
   "id": "3836d079",
   "metadata": {},
   "source": [
    "### 5. Write a Python program to display the following data column wise.\n",
    "exam_data = {'name': ['Anastasia', 'Dima','Katherine', 'James', 'Emily', 'Michael', 'Matthew','Laura', 'Kevin', 'Jonas'],\n",
    "'score': [12.5, 9, 16.5,np.nan, 9, 20, 14.5, np.nan, 8, 19],\n",
    "'attempts': [1,3, 2, 3, 2, 3, 1, 1, 2, 1],\n",
    "'qualify': ['yes', 'no', 'yes', 'no', 'no','yes', 'yes', 'no', 'no', 'yes']}\n",
    "labels = ['a', 'b', 'c', 'd', 'e', 'f', 'g', 'h','i', 'j']"
   ]
  },
  {
   "cell_type": "code",
   "execution_count": null,
   "id": "a25e403f",
   "metadata": {},
   "outputs": [],
   "source": []
  },
  {
   "cell_type": "code",
   "execution_count": 41,
   "id": "663749c9",
   "metadata": {},
   "outputs": [
    {
     "data": {
      "text/html": [
       "<div>\n",
       "<style scoped>\n",
       "    .dataframe tbody tr th:only-of-type {\n",
       "        vertical-align: middle;\n",
       "    }\n",
       "\n",
       "    .dataframe tbody tr th {\n",
       "        vertical-align: top;\n",
       "    }\n",
       "\n",
       "    .dataframe thead th {\n",
       "        text-align: right;\n",
       "    }\n",
       "</style>\n",
       "<table border=\"1\" class=\"dataframe\">\n",
       "  <thead>\n",
       "    <tr style=\"text-align: right;\">\n",
       "      <th></th>\n",
       "      <th>name</th>\n",
       "      <th>score</th>\n",
       "      <th>attempts</th>\n",
       "      <th>qualify</th>\n",
       "    </tr>\n",
       "  </thead>\n",
       "  <tbody>\n",
       "    <tr>\n",
       "      <th>0</th>\n",
       "      <td>Anastasia</td>\n",
       "      <td>12.5</td>\n",
       "      <td>1</td>\n",
       "      <td>yes</td>\n",
       "    </tr>\n",
       "    <tr>\n",
       "      <th>1</th>\n",
       "      <td>Dima</td>\n",
       "      <td>9.0</td>\n",
       "      <td>3</td>\n",
       "      <td>no</td>\n",
       "    </tr>\n",
       "    <tr>\n",
       "      <th>2</th>\n",
       "      <td>Katherine</td>\n",
       "      <td>16.5</td>\n",
       "      <td>2</td>\n",
       "      <td>yes</td>\n",
       "    </tr>\n",
       "    <tr>\n",
       "      <th>3</th>\n",
       "      <td>James</td>\n",
       "      <td>NaN</td>\n",
       "      <td>3</td>\n",
       "      <td>no</td>\n",
       "    </tr>\n",
       "    <tr>\n",
       "      <th>4</th>\n",
       "      <td>Emily</td>\n",
       "      <td>9.0</td>\n",
       "      <td>2</td>\n",
       "      <td>no</td>\n",
       "    </tr>\n",
       "    <tr>\n",
       "      <th>5</th>\n",
       "      <td>Michael</td>\n",
       "      <td>20.0</td>\n",
       "      <td>3</td>\n",
       "      <td>yes</td>\n",
       "    </tr>\n",
       "    <tr>\n",
       "      <th>6</th>\n",
       "      <td>Matthew</td>\n",
       "      <td>14.5</td>\n",
       "      <td>1</td>\n",
       "      <td>yes</td>\n",
       "    </tr>\n",
       "    <tr>\n",
       "      <th>7</th>\n",
       "      <td>Laura</td>\n",
       "      <td>NaN</td>\n",
       "      <td>1</td>\n",
       "      <td>no</td>\n",
       "    </tr>\n",
       "    <tr>\n",
       "      <th>8</th>\n",
       "      <td>Kevin</td>\n",
       "      <td>8.0</td>\n",
       "      <td>2</td>\n",
       "      <td>no</td>\n",
       "    </tr>\n",
       "    <tr>\n",
       "      <th>9</th>\n",
       "      <td>Jonas</td>\n",
       "      <td>19.0</td>\n",
       "      <td>1</td>\n",
       "      <td>yes</td>\n",
       "    </tr>\n",
       "  </tbody>\n",
       "</table>\n",
       "</div>"
      ],
      "text/plain": [
       "        name  score  attempts qualify\n",
       "0  Anastasia   12.5         1     yes\n",
       "1       Dima    9.0         3      no\n",
       "2  Katherine   16.5         2     yes\n",
       "3      James    NaN         3      no\n",
       "4      Emily    9.0         2      no\n",
       "5    Michael   20.0         3     yes\n",
       "6    Matthew   14.5         1     yes\n",
       "7      Laura    NaN         1      no\n",
       "8      Kevin    8.0         2      no\n",
       "9      Jonas   19.0         1     yes"
      ]
     },
     "execution_count": 41,
     "metadata": {},
     "output_type": "execute_result"
    }
   ],
   "source": [
    "exam_data = pd.DataFrame({'name': ['Anastasia', 'Dima','Katherine', 'James', 'Emily', 'Michael', 'Matthew','Laura', 'Kevin', 'Jonas'],\n",
    "'score': [12.5, 9, 16.5,np.nan, 9, 20, 14.5, np.nan, 8, 19],\n",
    "'attempts': [1,3, 2, 3, 2, 3, 1, 1, 2, 1],\n",
    "'qualify': ['yes', 'no', 'yes', 'no', 'no','yes', 'yes', 'no', 'no', 'yes']})\n",
    "exam_data"
   ]
  },
  {
   "cell_type": "markdown",
   "id": "78ad3c11",
   "metadata": {},
   "source": [
    "### 6. Write a Python program to create and display a Data Frame from a specified dictionary data which has the index labels."
   ]
  },
  {
   "cell_type": "code",
   "execution_count": 5,
   "id": "5c783ec5",
   "metadata": {},
   "outputs": [
    {
     "data": {
      "text/html": [
       "<div>\n",
       "<style scoped>\n",
       "    .dataframe tbody tr th:only-of-type {\n",
       "        vertical-align: middle;\n",
       "    }\n",
       "\n",
       "    .dataframe tbody tr th {\n",
       "        vertical-align: top;\n",
       "    }\n",
       "\n",
       "    .dataframe thead th {\n",
       "        text-align: right;\n",
       "    }\n",
       "</style>\n",
       "<table border=\"1\" class=\"dataframe\">\n",
       "  <thead>\n",
       "    <tr style=\"text-align: right;\">\n",
       "      <th></th>\n",
       "      <th>name</th>\n",
       "      <th>score</th>\n",
       "      <th>attempts</th>\n",
       "      <th>qualify</th>\n",
       "    </tr>\n",
       "  </thead>\n",
       "  <tbody>\n",
       "    <tr>\n",
       "      <th>a</th>\n",
       "      <td>Anastasia</td>\n",
       "      <td>12.5</td>\n",
       "      <td>1</td>\n",
       "      <td>yes</td>\n",
       "    </tr>\n",
       "    <tr>\n",
       "      <th>b</th>\n",
       "      <td>Dima</td>\n",
       "      <td>9.0</td>\n",
       "      <td>3</td>\n",
       "      <td>no</td>\n",
       "    </tr>\n",
       "    <tr>\n",
       "      <th>c</th>\n",
       "      <td>Katherine</td>\n",
       "      <td>16.5</td>\n",
       "      <td>2</td>\n",
       "      <td>yes</td>\n",
       "    </tr>\n",
       "    <tr>\n",
       "      <th>d</th>\n",
       "      <td>James</td>\n",
       "      <td>NaN</td>\n",
       "      <td>3</td>\n",
       "      <td>no</td>\n",
       "    </tr>\n",
       "    <tr>\n",
       "      <th>e</th>\n",
       "      <td>Emily</td>\n",
       "      <td>9.0</td>\n",
       "      <td>2</td>\n",
       "      <td>no</td>\n",
       "    </tr>\n",
       "    <tr>\n",
       "      <th>f</th>\n",
       "      <td>Michael</td>\n",
       "      <td>20.0</td>\n",
       "      <td>3</td>\n",
       "      <td>yes</td>\n",
       "    </tr>\n",
       "    <tr>\n",
       "      <th>g</th>\n",
       "      <td>Matthew</td>\n",
       "      <td>14.5</td>\n",
       "      <td>1</td>\n",
       "      <td>yes</td>\n",
       "    </tr>\n",
       "    <tr>\n",
       "      <th>h</th>\n",
       "      <td>Laura</td>\n",
       "      <td>NaN</td>\n",
       "      <td>1</td>\n",
       "      <td>no</td>\n",
       "    </tr>\n",
       "    <tr>\n",
       "      <th>i</th>\n",
       "      <td>Kevin</td>\n",
       "      <td>8.0</td>\n",
       "      <td>2</td>\n",
       "      <td>no</td>\n",
       "    </tr>\n",
       "    <tr>\n",
       "      <th>j</th>\n",
       "      <td>Jonas</td>\n",
       "      <td>19.0</td>\n",
       "      <td>1</td>\n",
       "      <td>yes</td>\n",
       "    </tr>\n",
       "  </tbody>\n",
       "</table>\n",
       "</div>"
      ],
      "text/plain": [
       "        name  score  attempts qualify\n",
       "a  Anastasia   12.5         1     yes\n",
       "b       Dima    9.0         3      no\n",
       "c  Katherine   16.5         2     yes\n",
       "d      James    NaN         3      no\n",
       "e      Emily    9.0         2      no\n",
       "f    Michael   20.0         3     yes\n",
       "g    Matthew   14.5         1     yes\n",
       "h      Laura    NaN         1      no\n",
       "i      Kevin    8.0         2      no\n",
       "j      Jonas   19.0         1     yes"
      ]
     },
     "execution_count": 5,
     "metadata": {},
     "output_type": "execute_result"
    }
   ],
   "source": [
    "exam_data1 = pd.DataFrame({'name': ['Anastasia', 'Dima','Katherine', 'James', 'Emily', 'Michael', 'Matthew','Laura', 'Kevin', 'Jonas'],\n",
    "'score': [12.5, 9, 16.5,np.nan, 9, 20, 14.5, np.nan, 8, 19],\n",
    "'attempts': [1,3, 2, 3, 2, 3, 1, 1, 2, 1],\n",
    "'qualify': ['yes', 'no', 'yes', 'no', 'no','yes', 'yes', 'no', 'no', 'yes']},index = ['a', 'b', 'c', 'd', 'e', 'f', 'g', 'h','i', 'j'])\n",
    "exam_data1"
   ]
  },
  {
   "cell_type": "markdown",
   "id": "03854039",
   "metadata": {},
   "source": [
    "### 7. Write a Python program to select the specified columns and rows from a given Data Frame."
   ]
  },
  {
   "cell_type": "code",
   "execution_count": 9,
   "id": "da2907e7",
   "metadata": {},
   "outputs": [
    {
     "data": {
      "text/html": [
       "<div>\n",
       "<style scoped>\n",
       "    .dataframe tbody tr th:only-of-type {\n",
       "        vertical-align: middle;\n",
       "    }\n",
       "\n",
       "    .dataframe tbody tr th {\n",
       "        vertical-align: top;\n",
       "    }\n",
       "\n",
       "    .dataframe thead th {\n",
       "        text-align: right;\n",
       "    }\n",
       "</style>\n",
       "<table border=\"1\" class=\"dataframe\">\n",
       "  <thead>\n",
       "    <tr style=\"text-align: right;\">\n",
       "      <th></th>\n",
       "      <th>score</th>\n",
       "      <th>attempts</th>\n",
       "      <th>qualify</th>\n",
       "    </tr>\n",
       "  </thead>\n",
       "  <tbody>\n",
       "    <tr>\n",
       "      <th>d</th>\n",
       "      <td>NaN</td>\n",
       "      <td>3</td>\n",
       "      <td>no</td>\n",
       "    </tr>\n",
       "    <tr>\n",
       "      <th>e</th>\n",
       "      <td>9.0</td>\n",
       "      <td>2</td>\n",
       "      <td>no</td>\n",
       "    </tr>\n",
       "    <tr>\n",
       "      <th>f</th>\n",
       "      <td>20.0</td>\n",
       "      <td>3</td>\n",
       "      <td>yes</td>\n",
       "    </tr>\n",
       "    <tr>\n",
       "      <th>g</th>\n",
       "      <td>14.5</td>\n",
       "      <td>1</td>\n",
       "      <td>yes</td>\n",
       "    </tr>\n",
       "  </tbody>\n",
       "</table>\n",
       "</div>"
      ],
      "text/plain": [
       "   score  attempts qualify\n",
       "d    NaN         3      no\n",
       "e    9.0         2      no\n",
       "f   20.0         3     yes\n",
       "g   14.5         1     yes"
      ]
     },
     "execution_count": 9,
     "metadata": {},
     "output_type": "execute_result"
    }
   ],
   "source": [
    "df=exam_data1.loc['d':'g','score':'qualify']\n",
    "df"
   ]
  },
  {
   "cell_type": "code",
   "execution_count": null,
   "id": "adee9742",
   "metadata": {},
   "outputs": [],
   "source": []
  },
  {
   "cell_type": "markdown",
   "id": "59a1ac2c",
   "metadata": {},
   "source": [
    "### 8. Write a Python program to select the rows the score is between 15 and 20 (inclusive)."
   ]
  },
  {
   "cell_type": "code",
   "execution_count": 54,
   "id": "36518786",
   "metadata": {},
   "outputs": [
    {
     "data": {
      "text/html": [
       "<div>\n",
       "<style scoped>\n",
       "    .dataframe tbody tr th:only-of-type {\n",
       "        vertical-align: middle;\n",
       "    }\n",
       "\n",
       "    .dataframe tbody tr th {\n",
       "        vertical-align: top;\n",
       "    }\n",
       "\n",
       "    .dataframe thead th {\n",
       "        text-align: right;\n",
       "    }\n",
       "</style>\n",
       "<table border=\"1\" class=\"dataframe\">\n",
       "  <thead>\n",
       "    <tr style=\"text-align: right;\">\n",
       "      <th></th>\n",
       "      <th>name</th>\n",
       "      <th>score</th>\n",
       "      <th>attempts</th>\n",
       "      <th>qualify</th>\n",
       "    </tr>\n",
       "  </thead>\n",
       "  <tbody>\n",
       "    <tr>\n",
       "      <th>c</th>\n",
       "      <td>Katherine</td>\n",
       "      <td>16.5</td>\n",
       "      <td>2</td>\n",
       "      <td>yes</td>\n",
       "    </tr>\n",
       "    <tr>\n",
       "      <th>f</th>\n",
       "      <td>Michael</td>\n",
       "      <td>20.0</td>\n",
       "      <td>3</td>\n",
       "      <td>yes</td>\n",
       "    </tr>\n",
       "    <tr>\n",
       "      <th>j</th>\n",
       "      <td>Jonas</td>\n",
       "      <td>19.0</td>\n",
       "      <td>1</td>\n",
       "      <td>yes</td>\n",
       "    </tr>\n",
       "  </tbody>\n",
       "</table>\n",
       "</div>"
      ],
      "text/plain": [
       "        name  score  attempts qualify\n",
       "c  Katherine   16.5         2     yes\n",
       "f    Michael   20.0         3     yes\n",
       "j      Jonas   19.0         1     yes"
      ]
     },
     "execution_count": 54,
     "metadata": {},
     "output_type": "execute_result"
    }
   ],
   "source": [
    "exam_data1[exam_data1.score.between(15,20)]"
   ]
  },
  {
   "cell_type": "markdown",
   "id": "f117218e",
   "metadata": {},
   "source": [
    "### 9. Write a Python program to select the rows where number of attempts in the examination is less than 2 and score greater than 15."
   ]
  },
  {
   "cell_type": "code",
   "execution_count": 56,
   "id": "59c7e522",
   "metadata": {},
   "outputs": [
    {
     "data": {
      "text/html": [
       "<div>\n",
       "<style scoped>\n",
       "    .dataframe tbody tr th:only-of-type {\n",
       "        vertical-align: middle;\n",
       "    }\n",
       "\n",
       "    .dataframe tbody tr th {\n",
       "        vertical-align: top;\n",
       "    }\n",
       "\n",
       "    .dataframe thead th {\n",
       "        text-align: right;\n",
       "    }\n",
       "</style>\n",
       "<table border=\"1\" class=\"dataframe\">\n",
       "  <thead>\n",
       "    <tr style=\"text-align: right;\">\n",
       "      <th></th>\n",
       "      <th>name</th>\n",
       "      <th>score</th>\n",
       "      <th>attempts</th>\n",
       "      <th>qualify</th>\n",
       "    </tr>\n",
       "  </thead>\n",
       "  <tbody>\n",
       "    <tr>\n",
       "      <th>j</th>\n",
       "      <td>Jonas</td>\n",
       "      <td>19.0</td>\n",
       "      <td>1</td>\n",
       "      <td>yes</td>\n",
       "    </tr>\n",
       "  </tbody>\n",
       "</table>\n",
       "</div>"
      ],
      "text/plain": [
       "    name  score  attempts qualify\n",
       "j  Jonas   19.0         1     yes"
      ]
     },
     "execution_count": 56,
     "metadata": {},
     "output_type": "execute_result"
    }
   ],
   "source": [
    "exam_data1[(exam_data1.attempts<2) & (exam_data1.score>15)]"
   ]
  },
  {
   "cell_type": "markdown",
   "id": "bde83a36",
   "metadata": {},
   "source": [
    "### 10. Write a Python program to append a new row 'k' to Data Frame with given values for each column. Now delete the new row and return the original data frame.\n"
   ]
  },
  {
   "cell_type": "code",
   "execution_count": 15,
   "id": "7c55080e",
   "metadata": {},
   "outputs": [
    {
     "data": {
      "text/html": [
       "<div>\n",
       "<style scoped>\n",
       "    .dataframe tbody tr th:only-of-type {\n",
       "        vertical-align: middle;\n",
       "    }\n",
       "\n",
       "    .dataframe tbody tr th {\n",
       "        vertical-align: top;\n",
       "    }\n",
       "\n",
       "    .dataframe thead th {\n",
       "        text-align: right;\n",
       "    }\n",
       "</style>\n",
       "<table border=\"1\" class=\"dataframe\">\n",
       "  <thead>\n",
       "    <tr style=\"text-align: right;\">\n",
       "      <th></th>\n",
       "      <th>name</th>\n",
       "      <th>score</th>\n",
       "      <th>attempts</th>\n",
       "      <th>qualify</th>\n",
       "    </tr>\n",
       "  </thead>\n",
       "  <tbody>\n",
       "    <tr>\n",
       "      <th>a</th>\n",
       "      <td>Anastasia</td>\n",
       "      <td>12.5</td>\n",
       "      <td>1</td>\n",
       "      <td>yes</td>\n",
       "    </tr>\n",
       "    <tr>\n",
       "      <th>b</th>\n",
       "      <td>Dima</td>\n",
       "      <td>9.0</td>\n",
       "      <td>3</td>\n",
       "      <td>no</td>\n",
       "    </tr>\n",
       "    <tr>\n",
       "      <th>c</th>\n",
       "      <td>Katherine</td>\n",
       "      <td>16.5</td>\n",
       "      <td>2</td>\n",
       "      <td>yes</td>\n",
       "    </tr>\n",
       "    <tr>\n",
       "      <th>d</th>\n",
       "      <td>James</td>\n",
       "      <td>NaN</td>\n",
       "      <td>3</td>\n",
       "      <td>no</td>\n",
       "    </tr>\n",
       "    <tr>\n",
       "      <th>e</th>\n",
       "      <td>Emily</td>\n",
       "      <td>9.0</td>\n",
       "      <td>2</td>\n",
       "      <td>no</td>\n",
       "    </tr>\n",
       "    <tr>\n",
       "      <th>f</th>\n",
       "      <td>Michael</td>\n",
       "      <td>20.0</td>\n",
       "      <td>3</td>\n",
       "      <td>yes</td>\n",
       "    </tr>\n",
       "    <tr>\n",
       "      <th>g</th>\n",
       "      <td>Matthew</td>\n",
       "      <td>14.5</td>\n",
       "      <td>1</td>\n",
       "      <td>yes</td>\n",
       "    </tr>\n",
       "    <tr>\n",
       "      <th>h</th>\n",
       "      <td>Laura</td>\n",
       "      <td>NaN</td>\n",
       "      <td>1</td>\n",
       "      <td>no</td>\n",
       "    </tr>\n",
       "    <tr>\n",
       "      <th>i</th>\n",
       "      <td>Kevin</td>\n",
       "      <td>8.0</td>\n",
       "      <td>2</td>\n",
       "      <td>no</td>\n",
       "    </tr>\n",
       "    <tr>\n",
       "      <th>j</th>\n",
       "      <td>Jonas</td>\n",
       "      <td>19.0</td>\n",
       "      <td>1</td>\n",
       "      <td>yes</td>\n",
       "    </tr>\n",
       "    <tr>\n",
       "      <th>k</th>\n",
       "      <td>Rajnikant</td>\n",
       "      <td>20.0</td>\n",
       "      <td>1</td>\n",
       "      <td>yes</td>\n",
       "    </tr>\n",
       "  </tbody>\n",
       "</table>\n",
       "</div>"
      ],
      "text/plain": [
       "        name  score  attempts qualify\n",
       "a  Anastasia   12.5         1     yes\n",
       "b       Dima    9.0         3      no\n",
       "c  Katherine   16.5         2     yes\n",
       "d      James    NaN         3      no\n",
       "e      Emily    9.0         2      no\n",
       "f    Michael   20.0         3     yes\n",
       "g    Matthew   14.5         1     yes\n",
       "h      Laura    NaN         1      no\n",
       "i      Kevin    8.0         2      no\n",
       "j      Jonas   19.0         1     yes\n",
       "k  Rajnikant   20.0         1     yes"
      ]
     },
     "execution_count": 15,
     "metadata": {},
     "output_type": "execute_result"
    }
   ],
   "source": [
    "exam_data1.loc['k']=['Rajnikant',20,1,'yes']\n",
    "exam_data1"
   ]
  },
  {
   "cell_type": "code",
   "execution_count": 16,
   "id": "072c8d53",
   "metadata": {},
   "outputs": [],
   "source": [
    "exam_data1=exam_data1.drop('k')"
   ]
  },
  {
   "cell_type": "markdown",
   "id": "68dad217",
   "metadata": {},
   "source": [
    "### 11. Write a Python program to sort the data frame first by 'name' in descending order, then by 'score' in ascending order."
   ]
  },
  {
   "cell_type": "code",
   "execution_count": 17,
   "id": "17104745",
   "metadata": {},
   "outputs": [
    {
     "data": {
      "text/html": [
       "<div>\n",
       "<style scoped>\n",
       "    .dataframe tbody tr th:only-of-type {\n",
       "        vertical-align: middle;\n",
       "    }\n",
       "\n",
       "    .dataframe tbody tr th {\n",
       "        vertical-align: top;\n",
       "    }\n",
       "\n",
       "    .dataframe thead th {\n",
       "        text-align: right;\n",
       "    }\n",
       "</style>\n",
       "<table border=\"1\" class=\"dataframe\">\n",
       "  <thead>\n",
       "    <tr style=\"text-align: right;\">\n",
       "      <th></th>\n",
       "      <th>name</th>\n",
       "      <th>score</th>\n",
       "      <th>attempts</th>\n",
       "      <th>qualify</th>\n",
       "    </tr>\n",
       "  </thead>\n",
       "  <tbody>\n",
       "    <tr>\n",
       "      <th>f</th>\n",
       "      <td>Michael</td>\n",
       "      <td>20.0</td>\n",
       "      <td>3</td>\n",
       "      <td>yes</td>\n",
       "    </tr>\n",
       "    <tr>\n",
       "      <th>g</th>\n",
       "      <td>Matthew</td>\n",
       "      <td>14.5</td>\n",
       "      <td>1</td>\n",
       "      <td>yes</td>\n",
       "    </tr>\n",
       "    <tr>\n",
       "      <th>h</th>\n",
       "      <td>Laura</td>\n",
       "      <td>NaN</td>\n",
       "      <td>1</td>\n",
       "      <td>no</td>\n",
       "    </tr>\n",
       "    <tr>\n",
       "      <th>i</th>\n",
       "      <td>Kevin</td>\n",
       "      <td>8.0</td>\n",
       "      <td>2</td>\n",
       "      <td>no</td>\n",
       "    </tr>\n",
       "    <tr>\n",
       "      <th>c</th>\n",
       "      <td>Katherine</td>\n",
       "      <td>16.5</td>\n",
       "      <td>2</td>\n",
       "      <td>yes</td>\n",
       "    </tr>\n",
       "    <tr>\n",
       "      <th>j</th>\n",
       "      <td>Jonas</td>\n",
       "      <td>19.0</td>\n",
       "      <td>1</td>\n",
       "      <td>yes</td>\n",
       "    </tr>\n",
       "    <tr>\n",
       "      <th>d</th>\n",
       "      <td>James</td>\n",
       "      <td>NaN</td>\n",
       "      <td>3</td>\n",
       "      <td>no</td>\n",
       "    </tr>\n",
       "    <tr>\n",
       "      <th>e</th>\n",
       "      <td>Emily</td>\n",
       "      <td>9.0</td>\n",
       "      <td>2</td>\n",
       "      <td>no</td>\n",
       "    </tr>\n",
       "    <tr>\n",
       "      <th>b</th>\n",
       "      <td>Dima</td>\n",
       "      <td>9.0</td>\n",
       "      <td>3</td>\n",
       "      <td>no</td>\n",
       "    </tr>\n",
       "    <tr>\n",
       "      <th>a</th>\n",
       "      <td>Anastasia</td>\n",
       "      <td>12.5</td>\n",
       "      <td>1</td>\n",
       "      <td>yes</td>\n",
       "    </tr>\n",
       "  </tbody>\n",
       "</table>\n",
       "</div>"
      ],
      "text/plain": [
       "        name  score  attempts qualify\n",
       "f    Michael   20.0         3     yes\n",
       "g    Matthew   14.5         1     yes\n",
       "h      Laura    NaN         1      no\n",
       "i      Kevin    8.0         2      no\n",
       "c  Katherine   16.5         2     yes\n",
       "j      Jonas   19.0         1     yes\n",
       "d      James    NaN         3      no\n",
       "e      Emily    9.0         2      no\n",
       "b       Dima    9.0         3      no\n",
       "a  Anastasia   12.5         1     yes"
      ]
     },
     "execution_count": 17,
     "metadata": {},
     "output_type": "execute_result"
    }
   ],
   "source": [
    "exam_data1.sort_values(by=['name','score'], ascending=[False,True])"
   ]
  },
  {
   "cell_type": "markdown",
   "id": "3cbedbb3",
   "metadata": {},
   "source": [
    "### 12. Write a Python program to insert a new column in existing DataFrame."
   ]
  },
  {
   "cell_type": "code",
   "execution_count": 18,
   "id": "6cbb1611",
   "metadata": {},
   "outputs": [],
   "source": [
    "exam_data1['new_col']=10"
   ]
  },
  {
   "cell_type": "code",
   "execution_count": 19,
   "id": "08c39383",
   "metadata": {},
   "outputs": [
    {
     "data": {
      "text/html": [
       "<div>\n",
       "<style scoped>\n",
       "    .dataframe tbody tr th:only-of-type {\n",
       "        vertical-align: middle;\n",
       "    }\n",
       "\n",
       "    .dataframe tbody tr th {\n",
       "        vertical-align: top;\n",
       "    }\n",
       "\n",
       "    .dataframe thead th {\n",
       "        text-align: right;\n",
       "    }\n",
       "</style>\n",
       "<table border=\"1\" class=\"dataframe\">\n",
       "  <thead>\n",
       "    <tr style=\"text-align: right;\">\n",
       "      <th></th>\n",
       "      <th>name</th>\n",
       "      <th>score</th>\n",
       "      <th>attempts</th>\n",
       "      <th>qualify</th>\n",
       "      <th>new_col</th>\n",
       "    </tr>\n",
       "  </thead>\n",
       "  <tbody>\n",
       "    <tr>\n",
       "      <th>a</th>\n",
       "      <td>Anastasia</td>\n",
       "      <td>12.5</td>\n",
       "      <td>1</td>\n",
       "      <td>yes</td>\n",
       "      <td>10</td>\n",
       "    </tr>\n",
       "    <tr>\n",
       "      <th>b</th>\n",
       "      <td>Dima</td>\n",
       "      <td>9.0</td>\n",
       "      <td>3</td>\n",
       "      <td>no</td>\n",
       "      <td>10</td>\n",
       "    </tr>\n",
       "    <tr>\n",
       "      <th>c</th>\n",
       "      <td>Katherine</td>\n",
       "      <td>16.5</td>\n",
       "      <td>2</td>\n",
       "      <td>yes</td>\n",
       "      <td>10</td>\n",
       "    </tr>\n",
       "    <tr>\n",
       "      <th>d</th>\n",
       "      <td>James</td>\n",
       "      <td>NaN</td>\n",
       "      <td>3</td>\n",
       "      <td>no</td>\n",
       "      <td>10</td>\n",
       "    </tr>\n",
       "    <tr>\n",
       "      <th>e</th>\n",
       "      <td>Emily</td>\n",
       "      <td>9.0</td>\n",
       "      <td>2</td>\n",
       "      <td>no</td>\n",
       "      <td>10</td>\n",
       "    </tr>\n",
       "    <tr>\n",
       "      <th>f</th>\n",
       "      <td>Michael</td>\n",
       "      <td>20.0</td>\n",
       "      <td>3</td>\n",
       "      <td>yes</td>\n",
       "      <td>10</td>\n",
       "    </tr>\n",
       "    <tr>\n",
       "      <th>g</th>\n",
       "      <td>Matthew</td>\n",
       "      <td>14.5</td>\n",
       "      <td>1</td>\n",
       "      <td>yes</td>\n",
       "      <td>10</td>\n",
       "    </tr>\n",
       "    <tr>\n",
       "      <th>h</th>\n",
       "      <td>Laura</td>\n",
       "      <td>NaN</td>\n",
       "      <td>1</td>\n",
       "      <td>no</td>\n",
       "      <td>10</td>\n",
       "    </tr>\n",
       "    <tr>\n",
       "      <th>i</th>\n",
       "      <td>Kevin</td>\n",
       "      <td>8.0</td>\n",
       "      <td>2</td>\n",
       "      <td>no</td>\n",
       "      <td>10</td>\n",
       "    </tr>\n",
       "    <tr>\n",
       "      <th>j</th>\n",
       "      <td>Jonas</td>\n",
       "      <td>19.0</td>\n",
       "      <td>1</td>\n",
       "      <td>yes</td>\n",
       "      <td>10</td>\n",
       "    </tr>\n",
       "  </tbody>\n",
       "</table>\n",
       "</div>"
      ],
      "text/plain": [
       "        name  score  attempts qualify  new_col\n",
       "a  Anastasia   12.5         1     yes       10\n",
       "b       Dima    9.0         3      no       10\n",
       "c  Katherine   16.5         2     yes       10\n",
       "d      James    NaN         3      no       10\n",
       "e      Emily    9.0         2      no       10\n",
       "f    Michael   20.0         3     yes       10\n",
       "g    Matthew   14.5         1     yes       10\n",
       "h      Laura    NaN         1      no       10\n",
       "i      Kevin    8.0         2      no       10\n",
       "j      Jonas   19.0         1     yes       10"
      ]
     },
     "execution_count": 19,
     "metadata": {},
     "output_type": "execute_result"
    }
   ],
   "source": [
    "exam_data1"
   ]
  },
  {
   "cell_type": "markdown",
   "id": "3995872c",
   "metadata": {},
   "source": [
    "### 13. Write a Python program to change the name 'James' to 'Suresh' in name column of the data frame."
   ]
  },
  {
   "cell_type": "code",
   "execution_count": 20,
   "id": "9043f3ea",
   "metadata": {},
   "outputs": [
    {
     "data": {
      "text/plain": [
       "a    Anastasia\n",
       "b         Dima\n",
       "c    Katherine\n",
       "d       Suresh\n",
       "e        Emily\n",
       "f      Michael\n",
       "g      Matthew\n",
       "h        Laura\n",
       "i        Kevin\n",
       "j        Jonas\n",
       "Name: name, dtype: object"
      ]
     },
     "execution_count": 20,
     "metadata": {},
     "output_type": "execute_result"
    }
   ],
   "source": [
    "exam_data1['name'].replace('James','Suresh')"
   ]
  },
  {
   "cell_type": "code",
   "execution_count": null,
   "id": "3addf089",
   "metadata": {},
   "outputs": [],
   "source": []
  },
  {
   "cell_type": "markdown",
   "id": "c7f3a471",
   "metadata": {},
   "source": [
    "### 14. If column source_id has prefix “ch”  then add columns gross and amount values else subtract column amount value from column gross value\n"
   ]
  },
  {
   "cell_type": "code",
   "execution_count": 6,
   "id": "88bce344",
   "metadata": {},
   "outputs": [
    {
     "data": {
      "text/html": [
       "<div>\n",
       "<style scoped>\n",
       "    .dataframe tbody tr th:only-of-type {\n",
       "        vertical-align: middle;\n",
       "    }\n",
       "\n",
       "    .dataframe tbody tr th {\n",
       "        vertical-align: top;\n",
       "    }\n",
       "\n",
       "    .dataframe thead th {\n",
       "        text-align: right;\n",
       "    }\n",
       "</style>\n",
       "<table border=\"1\" class=\"dataframe\">\n",
       "  <thead>\n",
       "    <tr style=\"text-align: right;\">\n",
       "      <th></th>\n",
       "      <th>source_id</th>\n",
       "      <th>gross</th>\n",
       "      <th>amount</th>\n",
       "    </tr>\n",
       "  </thead>\n",
       "  <tbody>\n",
       "    <tr>\n",
       "      <th>0</th>\n",
       "      <td>ch_1ImGtQH0noKNrKukNkUoH6No</td>\n",
       "      <td>993.04</td>\n",
       "      <td>993.04</td>\n",
       "    </tr>\n",
       "    <tr>\n",
       "      <th>1</th>\n",
       "      <td>ch_1ImHUfH0noKNrKukhEjgQ5hI</td>\n",
       "      <td>195.04</td>\n",
       "      <td>195.04</td>\n",
       "    </tr>\n",
       "    <tr>\n",
       "      <th>2</th>\n",
       "      <td>ch_1ImIQRH0noKNrKukF3vt8Kyo</td>\n",
       "      <td>87.10</td>\n",
       "      <td>87.10</td>\n",
       "    </tr>\n",
       "    <tr>\n",
       "      <th>3</th>\n",
       "      <td>ch_1ImIYmH0noKNrKuk2ieQ0hsW</td>\n",
       "      <td>309.07</td>\n",
       "      <td>309.07</td>\n",
       "    </tr>\n",
       "    <tr>\n",
       "      <th>4</th>\n",
       "      <td>re_1ImIfSH0noKNrKuk9yYipe8Y</td>\n",
       "      <td>-50.00</td>\n",
       "      <td>-50.00</td>\n",
       "    </tr>\n",
       "  </tbody>\n",
       "</table>\n",
       "</div>"
      ],
      "text/plain": [
       "                     source_id   gross  amount\n",
       "0  ch_1ImGtQH0noKNrKukNkUoH6No  993.04  993.04\n",
       "1  ch_1ImHUfH0noKNrKukhEjgQ5hI  195.04  195.04\n",
       "2  ch_1ImIQRH0noKNrKukF3vt8Kyo   87.10   87.10\n",
       "3  ch_1ImIYmH0noKNrKuk2ieQ0hsW  309.07  309.07\n",
       "4  re_1ImIfSH0noKNrKuk9yYipe8Y  -50.00  -50.00"
      ]
     },
     "execution_count": 6,
     "metadata": {},
     "output_type": "execute_result"
    }
   ],
   "source": [
    "import pandas as pd\n",
    "df=pd.read_csv('question14.csv')\n",
    "df.head()"
   ]
  },
  {
   "cell_type": "code",
   "execution_count": 11,
   "id": "0011dc94",
   "metadata": {},
   "outputs": [
    {
     "data": {
      "text/plain": [
       "'re_1ImIfSH0noKNrKuk9yYipe8Y'"
      ]
     },
     "execution_count": 11,
     "metadata": {},
     "output_type": "execute_result"
    }
   ],
   "source": [
    "# if df['source_id'][0][0:2]=='ch':\n",
    "#     df['Operation']=df['gross']+df['amount']\n",
    "# else:\n",
    "#     df['Operation']=df['gross']-df['amount']\n",
    "# df\n",
    "df['source_id'][0]"
   ]
  },
  {
   "cell_type": "code",
   "execution_count": null,
   "id": "dce80151",
   "metadata": {},
   "outputs": [],
   "source": []
  }
 ],
 "metadata": {
  "kernelspec": {
   "display_name": "Python 3",
   "language": "python",
   "name": "python3"
  },
  "language_info": {
   "codemirror_mode": {
    "name": "ipython",
    "version": 3
   },
   "file_extension": ".py",
   "mimetype": "text/x-python",
   "name": "python",
   "nbconvert_exporter": "python",
   "pygments_lexer": "ipython3",
   "version": "3.8.8"
  }
 },
 "nbformat": 4,
 "nbformat_minor": 5
}
