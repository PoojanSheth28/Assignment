{
 "cells": [
  {
   "cell_type": "markdown",
   "id": "fb7d2340",
   "metadata": {},
   "source": [
    "#### Name: Poojan Sheth\n"
   ]
  },
  {
   "cell_type": "code",
   "execution_count": null,
   "id": "3bbed588",
   "metadata": {},
   "outputs": [],
   "source": []
  },
  {
   "cell_type": "markdown",
   "id": "278e77f3",
   "metadata": {},
   "source": [
    "## Statistics Assignment 2"
   ]
  },
  {
   "cell_type": "code",
   "execution_count": null,
   "id": "1b840fe4",
   "metadata": {},
   "outputs": [],
   "source": []
  },
  {
   "cell_type": "markdown",
   "id": "230b7bb7",
   "metadata": {},
   "source": [
    "### Write a python Program to automatically do the Hypothesis Testing along with point estimate and interval estimate calculation"
   ]
  },
  {
   "cell_type": "code",
   "execution_count": null,
   "id": "3667ae67",
   "metadata": {},
   "outputs": [],
   "source": []
  },
  {
   "cell_type": "code",
   "execution_count": null,
   "id": "da6f867c",
   "metadata": {},
   "outputs": [],
   "source": []
  },
  {
   "cell_type": "code",
   "execution_count": 32,
   "id": "f98c247f",
   "metadata": {},
   "outputs": [],
   "source": [
    "import scipy.stats\n",
    "from scipy.stats import t\n",
    "from scipy import stats\n",
    "def estimate_and_Hypothesis_calc(sample_mean,population_mean,sample_size,std_dev):\n",
    "    a=int(input('''\n",
    "    1.) For Hypothesis testing enter 1\n",
    "    2.) For Point Estimate enter 2\n",
    "    3.) For Interval Estimate enter 3\n",
    "    ''')) ##User Input\n",
    "    z_alpha={'0.05':1.68,'0.025':1.96} ##Declaring z_alpha value as a dictionary\n",
    "    if sample_size >= 30:\n",
    "        print('Data follows the z-distibution')\n",
    "        if a==1: ## Hypothesis Testing\n",
    "            tail=int(input('Enter 1 for one tail test or 2 for two tail test')) ## User input for 1 tail or 2 tail test\n",
    "            if tail==1: ##One tail testing\n",
    "                z_stats=((sample_mean-population_mean)*(sample_size**0.5))/std_dev ## z_stats calculation\n",
    "                p_value=stats.norm.sf(z_stats) * tail ##equivalent alpha value calculation\n",
    "                if z_stats>=z_alpha['0.05']: ## Hypothesis checking\n",
    "                    print('Null Hypothesis rejected')\n",
    "                else:\n",
    "                    print('Null Hypothesis accepted')\n",
    "                print('Z_Stats value: ',z_stats)\n",
    "                print('p-value: ',p_value)\n",
    "            elif tail==2:##Two tail testing\n",
    "                z_stats=((sample_mean-population_mean)*(sample_size**0.5))/std_dev\n",
    "                p_value=stats.norm.sf(z_stats) * tail\n",
    "                if z_stats>=z_alpha['0.025']:\n",
    "                    print('Null Hypothesis rejected')\n",
    "                else:\n",
    "                    print('Null Hypothesis accepted')\n",
    "                print('Z_Stats value: ',z_stats)\n",
    "                print('p-value: ',p_value)\n",
    "        elif a==2: ##Point Estimate Calculation\n",
    "            point_est=sample_mean ##Calculating Point Estimate\n",
    "            print('Point Estimate: ',point_est)\n",
    "        elif a==3: ##Interval Estimate Calculation\n",
    "            margin_of_error=(z_alpha['0.025']*std_dev)/(sample_size**0.5) ##Calculating Margin of Error\n",
    "            lower_limit_of_interval_estimate=sample_mean-margin_of_error  ##Calculating Lower limit of interval estimate\n",
    "            upper_limit_of_interval_estimate=sample_mean+margin_of_error  ##Calculating Upper limit of interval estimate\n",
    "            print('Interval Estimate: ',lower_limit_of_interval_estimate,' to ',upper_limit_of_interval_estimate)\n",
    "            \n",
    "    elif sample_size < 30:\n",
    "        print('Data follows the t-distibution')\n",
    "        degree_of_freedom=sample_size-1 ##Calculating Degree of Freedom for obtaining t(alpha) value from t-table\n",
    "        print('Degree of Freedom = ',degree_of_freedom)\n",
    "        t_alpha=scipy.stats.t.ppf(q=1-.05,df=degree_of_freedom) ##Obtaining t(alpha) value \n",
    "        t_alpha_by_2=scipy.stats.t.ppf(q=1-.025,df=degree_of_freedom) ##Obtaining t(alpha/2) value \n",
    "        if a==1:\n",
    "            tail=int(input('Enter 1 for one tail test or 2 for two tail test')) ## User input for 1 tail or 2 tail test\n",
    "            if tail==1: ##One tail testing\n",
    "                t_stats=((sample_mean-population_mean)*(sample_size**0.5))/std_dev ## t_stats calculation\n",
    "                p_value=(1 - t.cdf(abs(t_stats), degree_of_freedom)) * tail ##equivalent p-value calculation\n",
    "                if t_stats>=t_alpha: ##Hypothesis checking\n",
    "                    print('Null Hypothesis rejected')\n",
    "                else:\n",
    "                    print('Null Hypothesis accepted')\n",
    "                print('T_Stats value: ',t_stats)\n",
    "                print('p-value: ',p_value)\n",
    "            elif tail==2: ##Two tail testing\n",
    "                t_stats=((sample_mean-population_mean)*(sample_size**0.5))/std_dev ## t_stats calculation\n",
    "                p_value=(1 - t.cdf(abs(t_stats), degree_of_freedom)) * tail ##equivalent p-value calculation\n",
    "                if t_stats>=t_alpha_by_2: ##Hypothesis checking\n",
    "                    print('Null Hypothesis rejected')\n",
    "                else:\n",
    "                    print('Null Hypothesis accepted')\n",
    "                print('T_Stats value: ',t_stats)\n",
    "                print('p-value: ',p_value)\n",
    "        elif a==2: ##Point Estimate Calculation\n",
    "            point_est=sample_mean ##Calculating Point Estimate\n",
    "            print('Point Estimate: ',point_est)\n",
    "        elif a==3:##Interval Estimate Calculation\n",
    "            margin_of_error=(t_alpha_by_2*std_dev)/(sample_size**0.5) ##Calculating Margin of Error\n",
    "            lower_limit_of_interval_estimate=sample_mean-margin_of_error  ##Calculating Lower limit of interval estimate\n",
    "            upper_limit_of_interval_estimate=sample_mean+margin_of_error  ##Calculating Upper limit of interval estimate\n",
    "            print('Interval Estimate: ',lower_limit_of_interval_estimate,' to ',upper_limit_of_interval_estimate)\n",
    "        \n",
    "    return\n"
   ]
  },
  {
   "cell_type": "code",
   "execution_count": null,
   "id": "797721e5",
   "metadata": {},
   "outputs": [],
   "source": []
  },
  {
   "cell_type": "code",
   "execution_count": null,
   "id": "d6631bc7",
   "metadata": {},
   "outputs": [],
   "source": []
  },
  {
   "cell_type": "code",
   "execution_count": null,
   "id": "49dba472",
   "metadata": {},
   "outputs": [],
   "source": []
  },
  {
   "cell_type": "code",
   "execution_count": null,
   "id": "bff9f6cb",
   "metadata": {},
   "outputs": [],
   "source": []
  },
  {
   "cell_type": "code",
   "execution_count": null,
   "id": "7463e48d",
   "metadata": {},
   "outputs": [],
   "source": []
  },
  {
   "cell_type": "code",
   "execution_count": null,
   "id": "28afcb46",
   "metadata": {},
   "outputs": [],
   "source": []
  },
  {
   "cell_type": "code",
   "execution_count": null,
   "id": "414762ee",
   "metadata": {},
   "outputs": [],
   "source": []
  },
  {
   "cell_type": "code",
   "execution_count": null,
   "id": "b60046a7",
   "metadata": {},
   "outputs": [],
   "source": []
  },
  {
   "cell_type": "code",
   "execution_count": null,
   "id": "2acc13ea",
   "metadata": {},
   "outputs": [],
   "source": []
  },
  {
   "cell_type": "code",
   "execution_count": null,
   "id": "cb3009ec",
   "metadata": {},
   "outputs": [],
   "source": []
  },
  {
   "cell_type": "code",
   "execution_count": null,
   "id": "f7bea37a",
   "metadata": {},
   "outputs": [],
   "source": []
  },
  {
   "cell_type": "code",
   "execution_count": null,
   "id": "cd5b4a1e",
   "metadata": {},
   "outputs": [],
   "source": []
  },
  {
   "cell_type": "code",
   "execution_count": null,
   "id": "70817b2b",
   "metadata": {},
   "outputs": [],
   "source": []
  },
  {
   "cell_type": "code",
   "execution_count": null,
   "id": "f8f2477b",
   "metadata": {},
   "outputs": [],
   "source": []
  },
  {
   "cell_type": "code",
   "execution_count": null,
   "id": "48d7a238",
   "metadata": {},
   "outputs": [],
   "source": []
  },
  {
   "cell_type": "code",
   "execution_count": null,
   "id": "cda5ce00",
   "metadata": {},
   "outputs": [],
   "source": []
  },
  {
   "cell_type": "code",
   "execution_count": null,
   "id": "2c97135f",
   "metadata": {},
   "outputs": [],
   "source": []
  },
  {
   "cell_type": "code",
   "execution_count": null,
   "id": "15263749",
   "metadata": {},
   "outputs": [],
   "source": []
  },
  {
   "cell_type": "code",
   "execution_count": null,
   "id": "863c38e2",
   "metadata": {},
   "outputs": [],
   "source": []
  },
  {
   "cell_type": "code",
   "execution_count": null,
   "id": "07452bb1",
   "metadata": {},
   "outputs": [],
   "source": []
  },
  {
   "cell_type": "code",
   "execution_count": null,
   "id": "636a9763",
   "metadata": {},
   "outputs": [],
   "source": []
  },
  {
   "cell_type": "code",
   "execution_count": null,
   "id": "c0545fa3",
   "metadata": {},
   "outputs": [],
   "source": []
  },
  {
   "cell_type": "code",
   "execution_count": null,
   "id": "f585df47",
   "metadata": {},
   "outputs": [],
   "source": []
  },
  {
   "cell_type": "code",
   "execution_count": null,
   "id": "d848f7be",
   "metadata": {},
   "outputs": [],
   "source": []
  },
  {
   "cell_type": "code",
   "execution_count": null,
   "id": "409f84cd",
   "metadata": {},
   "outputs": [],
   "source": []
  },
  {
   "cell_type": "code",
   "execution_count": null,
   "id": "f8d94374",
   "metadata": {},
   "outputs": [],
   "source": []
  },
  {
   "cell_type": "code",
   "execution_count": null,
   "id": "cc7176ce",
   "metadata": {},
   "outputs": [],
   "source": []
  },
  {
   "cell_type": "code",
   "execution_count": null,
   "id": "9720c146",
   "metadata": {},
   "outputs": [],
   "source": []
  },
  {
   "cell_type": "code",
   "execution_count": null,
   "id": "9f864cc1",
   "metadata": {},
   "outputs": [],
   "source": []
  },
  {
   "cell_type": "code",
   "execution_count": null,
   "id": "1c5678f6",
   "metadata": {},
   "outputs": [],
   "source": []
  },
  {
   "cell_type": "code",
   "execution_count": null,
   "id": "b1506630",
   "metadata": {},
   "outputs": [],
   "source": []
  },
  {
   "cell_type": "code",
   "execution_count": null,
   "id": "715641e6",
   "metadata": {},
   "outputs": [],
   "source": []
  },
  {
   "cell_type": "code",
   "execution_count": null,
   "id": "049f42e8",
   "metadata": {},
   "outputs": [],
   "source": []
  },
  {
   "cell_type": "code",
   "execution_count": null,
   "id": "3aab6cf9",
   "metadata": {},
   "outputs": [],
   "source": []
  },
  {
   "cell_type": "code",
   "execution_count": null,
   "id": "547d5d38",
   "metadata": {},
   "outputs": [],
   "source": []
  },
  {
   "cell_type": "code",
   "execution_count": null,
   "id": "ff26dda8",
   "metadata": {},
   "outputs": [],
   "source": []
  },
  {
   "cell_type": "code",
   "execution_count": null,
   "id": "be383b60",
   "metadata": {},
   "outputs": [],
   "source": []
  },
  {
   "cell_type": "code",
   "execution_count": null,
   "id": "00c84fa4",
   "metadata": {},
   "outputs": [],
   "source": []
  },
  {
   "cell_type": "code",
   "execution_count": null,
   "id": "751f1a60",
   "metadata": {},
   "outputs": [],
   "source": []
  },
  {
   "cell_type": "code",
   "execution_count": null,
   "id": "8dc3f5da",
   "metadata": {},
   "outputs": [],
   "source": []
  },
  {
   "cell_type": "code",
   "execution_count": null,
   "id": "e517f7b5",
   "metadata": {},
   "outputs": [],
   "source": []
  },
  {
   "cell_type": "code",
   "execution_count": null,
   "id": "c26901ec",
   "metadata": {},
   "outputs": [],
   "source": []
  },
  {
   "cell_type": "code",
   "execution_count": null,
   "id": "e16d9c17",
   "metadata": {},
   "outputs": [],
   "source": []
  },
  {
   "cell_type": "code",
   "execution_count": null,
   "id": "9d4c7ff3",
   "metadata": {},
   "outputs": [],
   "source": []
  },
  {
   "cell_type": "code",
   "execution_count": null,
   "id": "0dcddbe8",
   "metadata": {},
   "outputs": [],
   "source": []
  },
  {
   "cell_type": "code",
   "execution_count": null,
   "id": "41229b74",
   "metadata": {},
   "outputs": [],
   "source": []
  }
 ],
 "metadata": {
  "kernelspec": {
   "display_name": "Python 3",
   "language": "python",
   "name": "python3"
  },
  "language_info": {
   "codemirror_mode": {
    "name": "ipython",
    "version": 3
   },
   "file_extension": ".py",
   "mimetype": "text/x-python",
   "name": "python",
   "nbconvert_exporter": "python",
   "pygments_lexer": "ipython3",
   "version": "3.8.8"
  }
 },
 "nbformat": 4,
 "nbformat_minor": 5
}
