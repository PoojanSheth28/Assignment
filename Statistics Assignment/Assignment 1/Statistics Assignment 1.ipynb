{
 "cells": [
  {
   "cell_type": "markdown",
   "id": "24a2f49b",
   "metadata": {},
   "source": [
    "#### Name: Poojan Sheth"
   ]
  },
  {
   "cell_type": "code",
   "execution_count": null,
   "id": "b580e722",
   "metadata": {},
   "outputs": [],
   "source": []
  },
  {
   "cell_type": "markdown",
   "id": "5ab21c57",
   "metadata": {},
   "source": [
    "## Statistics Assignment 1"
   ]
  },
  {
   "cell_type": "code",
   "execution_count": null,
   "id": "bf73968a",
   "metadata": {},
   "outputs": [],
   "source": []
  },
  {
   "cell_type": "markdown",
   "id": "74bdf23c",
   "metadata": {},
   "source": [
    "### Write a python Program for Calculating the Interval Estimate & Point Estimate"
   ]
  },
  {
   "cell_type": "code",
   "execution_count": null,
   "id": "4e00bdd3",
   "metadata": {},
   "outputs": [],
   "source": []
  },
  {
   "cell_type": "code",
   "execution_count": null,
   "id": "dbd89152",
   "metadata": {},
   "outputs": [],
   "source": []
  },
  {
   "cell_type": "code",
   "execution_count": 3,
   "id": "e2e0c9dd",
   "metadata": {},
   "outputs": [],
   "source": [
    "import scipy.stats\n",
    "def estimate_calc(sample_mean,sample_size,std_dev):\n",
    "    z_alpha={'0.05':1.68,'0.025':1.96} ##Declaring z_alpha value as a dictionary\n",
    "    if sample_size >= 30:\n",
    "        print('Data follows the z-distibution')\n",
    "        point_est=sample_mean ##Calculating Point Estimate\n",
    "        margin_of_error=(z_alpha['0.025']*std_dev)/(sample_size**0.5) ##Calculating Margin of Error\n",
    "        lower_limit_of_interval_estimate=sample_mean-margin_of_error  ##Calculating Lower limit of interval estimate\n",
    "        upper_limit_of_interval_estimate=sample_mean+margin_of_error  ##Calculating Upper limit of interval estimate\n",
    "        a=int(input('''What you want to calculate?\n",
    "        1.) For Point Estimate enter 1\n",
    "        2.) For Interval Estimate enter 2\n",
    "        3.) For Both enter 3\n",
    "        '''))\n",
    "        if a==1:\n",
    "            print('Point Estimate: ',point_est)\n",
    "        elif a==2:\n",
    "            print('Interval Estimate: ',lower_limit_of_interval_estimate,' to ',upper_limit_of_interval_estimate)\n",
    "        elif a==3:\n",
    "            print('Point Estimate: ',point_est)\n",
    "            print('Interval Estimate: ',lower_limit_of_interval_estimate,' to ',upper_limit_of_interval_estimate)\n",
    "    elif sample_size < 30:\n",
    "        print('Data follows the t-distibution')\n",
    "        point_est=sample_mean ##Calculating Point Estimate\n",
    "        degree_of_freedom=sample_size-1 ##Calculating Degree of Freedom for obtaining t(alpha/2) value from t-table\n",
    "        print('Degree of Freedom = ',degree_of_freedom)\n",
    "        t_alpha=scipy.stats.t.ppf(q=1-.025,df=degree_of_freedom) ##Getting t(alpha/2) value from user\n",
    "        margin_of_error=(float(t_alpha)*std_dev)/(sample_size**0.5) ##Calculating Margin of Error\n",
    "        lower_limit_of_interval_estimate=sample_mean-margin_of_error ##Calculating Lower limit of interval estimate\n",
    "        upper_limit_of_interval_estimate=sample_mean+margin_of_error ##Calculating Upper limit of interval estimate\n",
    "        a=int(input('''What you want to calculate\n",
    "        1.) For Point Estimate enter 1\n",
    "        2.) For Interval Estimate enter 2\n",
    "        3.) For Both enter 3\n",
    "        '''))\n",
    "        if a==1:\n",
    "            print('Point Estimate: ',point_est)\n",
    "        elif a==2:\n",
    "            print('Interval Estimate: ',lower_limit_of_interval_estimate,' to ',upper_limit_of_interval_estimate)\n",
    "        elif a==3:\n",
    "            print('Point Estimate: ',point_est)\n",
    "            print('Interval Estimate: ',lower_limit_of_interval_estimate,' to ',upper_limit_of_interval_estimate)\n",
    "    return\n"
   ]
  },
  {
   "cell_type": "code",
   "execution_count": null,
   "id": "48e133fd",
   "metadata": {},
   "outputs": [],
   "source": []
  },
  {
   "cell_type": "code",
   "execution_count": null,
   "id": "f8fb1922",
   "metadata": {},
   "outputs": [],
   "source": []
  },
  {
   "cell_type": "code",
   "execution_count": null,
   "id": "f43d6264",
   "metadata": {},
   "outputs": [],
   "source": []
  },
  {
   "cell_type": "code",
   "execution_count": null,
   "id": "65ab7a88",
   "metadata": {},
   "outputs": [],
   "source": []
  },
  {
   "cell_type": "code",
   "execution_count": null,
   "id": "0835d15e",
   "metadata": {},
   "outputs": [],
   "source": []
  },
  {
   "cell_type": "code",
   "execution_count": null,
   "id": "2d5e615f",
   "metadata": {},
   "outputs": [],
   "source": []
  },
  {
   "cell_type": "code",
   "execution_count": null,
   "id": "f27d1a5a",
   "metadata": {},
   "outputs": [],
   "source": []
  },
  {
   "cell_type": "code",
   "execution_count": null,
   "id": "8f57534d",
   "metadata": {},
   "outputs": [],
   "source": []
  },
  {
   "cell_type": "code",
   "execution_count": null,
   "id": "eeb4dadd",
   "metadata": {},
   "outputs": [],
   "source": []
  },
  {
   "cell_type": "code",
   "execution_count": null,
   "id": "c31b14a1",
   "metadata": {},
   "outputs": [],
   "source": []
  },
  {
   "cell_type": "code",
   "execution_count": null,
   "id": "a50dd282",
   "metadata": {},
   "outputs": [],
   "source": []
  },
  {
   "cell_type": "code",
   "execution_count": null,
   "id": "b9be4dde",
   "metadata": {},
   "outputs": [],
   "source": []
  },
  {
   "cell_type": "code",
   "execution_count": null,
   "id": "85ca01b1",
   "metadata": {},
   "outputs": [],
   "source": []
  },
  {
   "cell_type": "code",
   "execution_count": null,
   "id": "334f6a3a",
   "metadata": {},
   "outputs": [],
   "source": []
  },
  {
   "cell_type": "code",
   "execution_count": null,
   "id": "bdef9213",
   "metadata": {},
   "outputs": [],
   "source": []
  },
  {
   "cell_type": "code",
   "execution_count": null,
   "id": "341192f0",
   "metadata": {},
   "outputs": [],
   "source": []
  },
  {
   "cell_type": "code",
   "execution_count": null,
   "id": "873486a5",
   "metadata": {},
   "outputs": [],
   "source": []
  },
  {
   "cell_type": "code",
   "execution_count": null,
   "id": "f9cad4f9",
   "metadata": {},
   "outputs": [],
   "source": []
  },
  {
   "cell_type": "code",
   "execution_count": null,
   "id": "8134f76e",
   "metadata": {},
   "outputs": [],
   "source": []
  },
  {
   "cell_type": "code",
   "execution_count": null,
   "id": "9b9b2708",
   "metadata": {},
   "outputs": [],
   "source": []
  },
  {
   "cell_type": "code",
   "execution_count": null,
   "id": "21119a6d",
   "metadata": {},
   "outputs": [],
   "source": []
  },
  {
   "cell_type": "code",
   "execution_count": null,
   "id": "01cdbd7b",
   "metadata": {},
   "outputs": [],
   "source": []
  },
  {
   "cell_type": "code",
   "execution_count": null,
   "id": "f80b1a68",
   "metadata": {},
   "outputs": [],
   "source": []
  },
  {
   "cell_type": "code",
   "execution_count": null,
   "id": "cef605c0",
   "metadata": {},
   "outputs": [],
   "source": []
  },
  {
   "cell_type": "code",
   "execution_count": null,
   "id": "d608a4fa",
   "metadata": {},
   "outputs": [],
   "source": []
  },
  {
   "cell_type": "code",
   "execution_count": null,
   "id": "fa28974f",
   "metadata": {},
   "outputs": [],
   "source": []
  },
  {
   "cell_type": "code",
   "execution_count": null,
   "id": "b748cf55",
   "metadata": {},
   "outputs": [],
   "source": []
  },
  {
   "cell_type": "code",
   "execution_count": null,
   "id": "c08dacfd",
   "metadata": {},
   "outputs": [],
   "source": []
  },
  {
   "cell_type": "code",
   "execution_count": null,
   "id": "d5d24135",
   "metadata": {},
   "outputs": [],
   "source": []
  },
  {
   "cell_type": "code",
   "execution_count": null,
   "id": "c799926d",
   "metadata": {},
   "outputs": [],
   "source": []
  },
  {
   "cell_type": "code",
   "execution_count": null,
   "id": "0197b0a4",
   "metadata": {},
   "outputs": [],
   "source": []
  },
  {
   "cell_type": "code",
   "execution_count": null,
   "id": "205e4cc8",
   "metadata": {},
   "outputs": [],
   "source": []
  },
  {
   "cell_type": "code",
   "execution_count": null,
   "id": "a5c5c29b",
   "metadata": {},
   "outputs": [],
   "source": []
  },
  {
   "cell_type": "code",
   "execution_count": null,
   "id": "f3afcf42",
   "metadata": {},
   "outputs": [],
   "source": []
  },
  {
   "cell_type": "code",
   "execution_count": null,
   "id": "bc2b3367",
   "metadata": {},
   "outputs": [],
   "source": []
  },
  {
   "cell_type": "code",
   "execution_count": null,
   "id": "3db094be",
   "metadata": {},
   "outputs": [],
   "source": []
  },
  {
   "cell_type": "code",
   "execution_count": null,
   "id": "f9d20930",
   "metadata": {},
   "outputs": [],
   "source": []
  },
  {
   "cell_type": "code",
   "execution_count": null,
   "id": "6c948994",
   "metadata": {},
   "outputs": [],
   "source": []
  },
  {
   "cell_type": "code",
   "execution_count": null,
   "id": "42bf1736",
   "metadata": {},
   "outputs": [],
   "source": []
  },
  {
   "cell_type": "code",
   "execution_count": null,
   "id": "9df7e8f9",
   "metadata": {},
   "outputs": [],
   "source": []
  },
  {
   "cell_type": "code",
   "execution_count": null,
   "id": "8ac3ca08",
   "metadata": {},
   "outputs": [],
   "source": []
  },
  {
   "cell_type": "code",
   "execution_count": null,
   "id": "03a87fe5",
   "metadata": {},
   "outputs": [],
   "source": []
  },
  {
   "cell_type": "code",
   "execution_count": null,
   "id": "fd4a3df5",
   "metadata": {},
   "outputs": [],
   "source": []
  },
  {
   "cell_type": "code",
   "execution_count": null,
   "id": "147a1dc3",
   "metadata": {},
   "outputs": [],
   "source": []
  },
  {
   "cell_type": "code",
   "execution_count": null,
   "id": "f42de9ac",
   "metadata": {},
   "outputs": [],
   "source": []
  },
  {
   "cell_type": "code",
   "execution_count": null,
   "id": "4cf44533",
   "metadata": {},
   "outputs": [],
   "source": []
  }
 ],
 "metadata": {
  "kernelspec": {
   "display_name": "Python 3",
   "language": "python",
   "name": "python3"
  },
  "language_info": {
   "codemirror_mode": {
    "name": "ipython",
    "version": 3
   },
   "file_extension": ".py",
   "mimetype": "text/x-python",
   "name": "python",
   "nbconvert_exporter": "python",
   "pygments_lexer": "ipython3",
   "version": "3.8.8"
  }
 },
 "nbformat": 4,
 "nbformat_minor": 5
}
